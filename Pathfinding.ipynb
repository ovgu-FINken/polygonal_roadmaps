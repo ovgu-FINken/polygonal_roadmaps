{
 "cells": [
  {
   "cell_type": "code",
   "execution_count": 1,
   "id": "2403f850-fafd-46da-ba32-e080a6e847a8",
   "metadata": {},
   "outputs": [
    {
     "data": {
      "text/html": [
       "\n",
       "    <div class=\"bk-root\">\n",
       "        <a href=\"https://bokeh.org\" target=\"_blank\" class=\"bk-logo bk-logo-small bk-logo-notebook\"></a>\n",
       "        <span id=\"1002\">Loading BokehJS ...</span>\n",
       "    </div>"
      ]
     },
     "metadata": {},
     "output_type": "display_data"
    },
    {
     "data": {
      "application/javascript": [
       "\n",
       "(function(root) {\n",
       "  function now() {\n",
       "    return new Date();\n",
       "  }\n",
       "\n",
       "  const force = true;\n",
       "\n",
       "  if (typeof root._bokeh_onload_callbacks === \"undefined\" || force === true) {\n",
       "    root._bokeh_onload_callbacks = [];\n",
       "    root._bokeh_is_loading = undefined;\n",
       "  }\n",
       "\n",
       "  const JS_MIME_TYPE = 'application/javascript';\n",
       "  const HTML_MIME_TYPE = 'text/html';\n",
       "  const EXEC_MIME_TYPE = 'application/vnd.bokehjs_exec.v0+json';\n",
       "  const CLASS_NAME = 'output_bokeh rendered_html';\n",
       "\n",
       "  /**\n",
       "   * Render data to the DOM node\n",
       "   */\n",
       "  function render(props, node) {\n",
       "    const script = document.createElement(\"script\");\n",
       "    node.appendChild(script);\n",
       "  }\n",
       "\n",
       "  /**\n",
       "   * Handle when an output is cleared or removed\n",
       "   */\n",
       "  function handleClearOutput(event, handle) {\n",
       "    const cell = handle.cell;\n",
       "\n",
       "    const id = cell.output_area._bokeh_element_id;\n",
       "    const server_id = cell.output_area._bokeh_server_id;\n",
       "    // Clean up Bokeh references\n",
       "    if (id != null && id in Bokeh.index) {\n",
       "      Bokeh.index[id].model.document.clear();\n",
       "      delete Bokeh.index[id];\n",
       "    }\n",
       "\n",
       "    if (server_id !== undefined) {\n",
       "      // Clean up Bokeh references\n",
       "      const cmd_clean = \"from bokeh.io.state import curstate; print(curstate().uuid_to_server['\" + server_id + \"'].get_sessions()[0].document.roots[0]._id)\";\n",
       "      cell.notebook.kernel.execute(cmd_clean, {\n",
       "        iopub: {\n",
       "          output: function(msg) {\n",
       "            const id = msg.content.text.trim();\n",
       "            if (id in Bokeh.index) {\n",
       "              Bokeh.index[id].model.document.clear();\n",
       "              delete Bokeh.index[id];\n",
       "            }\n",
       "          }\n",
       "        }\n",
       "      });\n",
       "      // Destroy server and session\n",
       "      const cmd_destroy = \"import bokeh.io.notebook as ion; ion.destroy_server('\" + server_id + \"')\";\n",
       "      cell.notebook.kernel.execute(cmd_destroy);\n",
       "    }\n",
       "  }\n",
       "\n",
       "  /**\n",
       "   * Handle when a new output is added\n",
       "   */\n",
       "  function handleAddOutput(event, handle) {\n",
       "    const output_area = handle.output_area;\n",
       "    const output = handle.output;\n",
       "\n",
       "    // limit handleAddOutput to display_data with EXEC_MIME_TYPE content only\n",
       "    if ((output.output_type != \"display_data\") || (!Object.prototype.hasOwnProperty.call(output.data, EXEC_MIME_TYPE))) {\n",
       "      return\n",
       "    }\n",
       "\n",
       "    const toinsert = output_area.element.find(\".\" + CLASS_NAME.split(' ')[0]);\n",
       "\n",
       "    if (output.metadata[EXEC_MIME_TYPE][\"id\"] !== undefined) {\n",
       "      toinsert[toinsert.length - 1].firstChild.textContent = output.data[JS_MIME_TYPE];\n",
       "      // store reference to embed id on output_area\n",
       "      output_area._bokeh_element_id = output.metadata[EXEC_MIME_TYPE][\"id\"];\n",
       "    }\n",
       "    if (output.metadata[EXEC_MIME_TYPE][\"server_id\"] !== undefined) {\n",
       "      const bk_div = document.createElement(\"div\");\n",
       "      bk_div.innerHTML = output.data[HTML_MIME_TYPE];\n",
       "      const script_attrs = bk_div.children[0].attributes;\n",
       "      for (let i = 0; i < script_attrs.length; i++) {\n",
       "        toinsert[toinsert.length - 1].firstChild.setAttribute(script_attrs[i].name, script_attrs[i].value);\n",
       "        toinsert[toinsert.length - 1].firstChild.textContent = bk_div.children[0].textContent\n",
       "      }\n",
       "      // store reference to server id on output_area\n",
       "      output_area._bokeh_server_id = output.metadata[EXEC_MIME_TYPE][\"server_id\"];\n",
       "    }\n",
       "  }\n",
       "\n",
       "  function register_renderer(events, OutputArea) {\n",
       "\n",
       "    function append_mime(data, metadata, element) {\n",
       "      // create a DOM node to render to\n",
       "      const toinsert = this.create_output_subarea(\n",
       "        metadata,\n",
       "        CLASS_NAME,\n",
       "        EXEC_MIME_TYPE\n",
       "      );\n",
       "      this.keyboard_manager.register_events(toinsert);\n",
       "      // Render to node\n",
       "      const props = {data: data, metadata: metadata[EXEC_MIME_TYPE]};\n",
       "      render(props, toinsert[toinsert.length - 1]);\n",
       "      element.append(toinsert);\n",
       "      return toinsert\n",
       "    }\n",
       "\n",
       "    /* Handle when an output is cleared or removed */\n",
       "    events.on('clear_output.CodeCell', handleClearOutput);\n",
       "    events.on('delete.Cell', handleClearOutput);\n",
       "\n",
       "    /* Handle when a new output is added */\n",
       "    events.on('output_added.OutputArea', handleAddOutput);\n",
       "\n",
       "    /**\n",
       "     * Register the mime type and append_mime function with output_area\n",
       "     */\n",
       "    OutputArea.prototype.register_mime_type(EXEC_MIME_TYPE, append_mime, {\n",
       "      /* Is output safe? */\n",
       "      safe: true,\n",
       "      /* Index of renderer in `output_area.display_order` */\n",
       "      index: 0\n",
       "    });\n",
       "  }\n",
       "\n",
       "  // register the mime type if in Jupyter Notebook environment and previously unregistered\n",
       "  if (root.Jupyter !== undefined) {\n",
       "    const events = require('base/js/events');\n",
       "    const OutputArea = require('notebook/js/outputarea').OutputArea;\n",
       "\n",
       "    if (OutputArea.prototype.mime_types().indexOf(EXEC_MIME_TYPE) == -1) {\n",
       "      register_renderer(events, OutputArea);\n",
       "    }\n",
       "  }\n",
       "\n",
       "  \n",
       "  if (typeof (root._bokeh_timeout) === \"undefined\" || force === true) {\n",
       "    root._bokeh_timeout = Date.now() + 5000;\n",
       "    root._bokeh_failed_load = false;\n",
       "  }\n",
       "\n",
       "  const NB_LOAD_WARNING = {'data': {'text/html':\n",
       "     \"<div style='background-color: #fdd'>\\n\"+\n",
       "     \"<p>\\n\"+\n",
       "     \"BokehJS does not appear to have successfully loaded. If loading BokehJS from CDN, this \\n\"+\n",
       "     \"may be due to a slow or bad network connection. Possible fixes:\\n\"+\n",
       "     \"</p>\\n\"+\n",
       "     \"<ul>\\n\"+\n",
       "     \"<li>re-rerun `output_notebook()` to attempt to load from CDN again, or</li>\\n\"+\n",
       "     \"<li>use INLINE resources instead, as so:</li>\\n\"+\n",
       "     \"</ul>\\n\"+\n",
       "     \"<code>\\n\"+\n",
       "     \"from bokeh.resources import INLINE\\n\"+\n",
       "     \"output_notebook(resources=INLINE)\\n\"+\n",
       "     \"</code>\\n\"+\n",
       "     \"</div>\"}};\n",
       "\n",
       "  function display_loaded() {\n",
       "    const el = document.getElementById(\"1002\");\n",
       "    if (el != null) {\n",
       "      el.textContent = \"BokehJS is loading...\";\n",
       "    }\n",
       "    if (root.Bokeh !== undefined) {\n",
       "      if (el != null) {\n",
       "        el.textContent = \"BokehJS \" + root.Bokeh.version + \" successfully loaded.\";\n",
       "      }\n",
       "    } else if (Date.now() < root._bokeh_timeout) {\n",
       "      setTimeout(display_loaded, 100)\n",
       "    }\n",
       "  }\n",
       "\n",
       "\n",
       "  function run_callbacks() {\n",
       "    try {\n",
       "      root._bokeh_onload_callbacks.forEach(function(callback) {\n",
       "        if (callback != null)\n",
       "          callback();\n",
       "      });\n",
       "    } finally {\n",
       "      delete root._bokeh_onload_callbacks\n",
       "    }\n",
       "    console.debug(\"Bokeh: all callbacks have finished\");\n",
       "  }\n",
       "\n",
       "  function load_libs(css_urls, js_urls, callback) {\n",
       "    if (css_urls == null) css_urls = [];\n",
       "    if (js_urls == null) js_urls = [];\n",
       "\n",
       "    root._bokeh_onload_callbacks.push(callback);\n",
       "    if (root._bokeh_is_loading > 0) {\n",
       "      console.debug(\"Bokeh: BokehJS is being loaded, scheduling callback at\", now());\n",
       "      return null;\n",
       "    }\n",
       "    if (js_urls == null || js_urls.length === 0) {\n",
       "      run_callbacks();\n",
       "      return null;\n",
       "    }\n",
       "    console.debug(\"Bokeh: BokehJS not loaded, scheduling load and callback at\", now());\n",
       "    root._bokeh_is_loading = css_urls.length + js_urls.length;\n",
       "\n",
       "    function on_load() {\n",
       "      root._bokeh_is_loading--;\n",
       "      if (root._bokeh_is_loading === 0) {\n",
       "        console.debug(\"Bokeh: all BokehJS libraries/stylesheets loaded\");\n",
       "        run_callbacks()\n",
       "      }\n",
       "    }\n",
       "\n",
       "    function on_error(url) {\n",
       "      console.error(\"failed to load \" + url);\n",
       "    }\n",
       "\n",
       "    for (let i = 0; i < css_urls.length; i++) {\n",
       "      const url = css_urls[i];\n",
       "      const element = document.createElement(\"link\");\n",
       "      element.onload = on_load;\n",
       "      element.onerror = on_error.bind(null, url);\n",
       "      element.rel = \"stylesheet\";\n",
       "      element.type = \"text/css\";\n",
       "      element.href = url;\n",
       "      console.debug(\"Bokeh: injecting link tag for BokehJS stylesheet: \", url);\n",
       "      document.body.appendChild(element);\n",
       "    }\n",
       "\n",
       "    for (let i = 0; i < js_urls.length; i++) {\n",
       "      const url = js_urls[i];\n",
       "      const element = document.createElement('script');\n",
       "      element.onload = on_load;\n",
       "      element.onerror = on_error.bind(null, url);\n",
       "      element.async = false;\n",
       "      element.src = url;\n",
       "      console.debug(\"Bokeh: injecting script tag for BokehJS library: \", url);\n",
       "      document.head.appendChild(element);\n",
       "    }\n",
       "  };\n",
       "\n",
       "  function inject_raw_css(css) {\n",
       "    const element = document.createElement(\"style\");\n",
       "    element.appendChild(document.createTextNode(css));\n",
       "    document.body.appendChild(element);\n",
       "  }\n",
       "\n",
       "  \n",
       "  const js_urls = [\"https://cdn.bokeh.org/bokeh/release/bokeh-2.4.1.min.js\", \"https://cdn.bokeh.org/bokeh/release/bokeh-gl-2.4.1.min.js\", \"https://cdn.bokeh.org/bokeh/release/bokeh-widgets-2.4.1.min.js\", \"https://cdn.bokeh.org/bokeh/release/bokeh-tables-2.4.1.min.js\", \"https://cdn.bokeh.org/bokeh/release/bokeh-mathjax-2.4.1.min.js\"];\n",
       "  const css_urls = [];\n",
       "  \n",
       "\n",
       "  const inline_js = [\n",
       "    function(Bokeh) {\n",
       "      Bokeh.set_log_level(\"info\");\n",
       "    },\n",
       "    function(Bokeh) {\n",
       "    \n",
       "    \n",
       "    }\n",
       "  ];\n",
       "\n",
       "  function run_inline_js() {\n",
       "    \n",
       "    if (root.Bokeh !== undefined || force === true) {\n",
       "      \n",
       "    for (let i = 0; i < inline_js.length; i++) {\n",
       "      inline_js[i].call(root, root.Bokeh);\n",
       "    }\n",
       "    if (force === true) {\n",
       "        display_loaded();\n",
       "      }} else if (Date.now() < root._bokeh_timeout) {\n",
       "      setTimeout(run_inline_js, 100);\n",
       "    } else if (!root._bokeh_failed_load) {\n",
       "      console.log(\"Bokeh: BokehJS failed to load within specified timeout.\");\n",
       "      root._bokeh_failed_load = true;\n",
       "    } else if (force !== true) {\n",
       "      const cell = $(document.getElementById(\"1002\")).parents('.cell').data().cell;\n",
       "      cell.output_area.append_execute_result(NB_LOAD_WARNING)\n",
       "    }\n",
       "\n",
       "  }\n",
       "\n",
       "  if (root._bokeh_is_loading === 0) {\n",
       "    console.debug(\"Bokeh: BokehJS loaded, going straight to plotting\");\n",
       "    run_inline_js();\n",
       "  } else {\n",
       "    load_libs(css_urls, js_urls, function() {\n",
       "      console.debug(\"Bokeh: BokehJS plotting callback run at\", now());\n",
       "      run_inline_js();\n",
       "    });\n",
       "  }\n",
       "}(window));"
      ],
      "application/vnd.bokehjs_load.v0+json": "\n(function(root) {\n  function now() {\n    return new Date();\n  }\n\n  const force = true;\n\n  if (typeof root._bokeh_onload_callbacks === \"undefined\" || force === true) {\n    root._bokeh_onload_callbacks = [];\n    root._bokeh_is_loading = undefined;\n  }\n\n  \n\n  \n  if (typeof (root._bokeh_timeout) === \"undefined\" || force === true) {\n    root._bokeh_timeout = Date.now() + 5000;\n    root._bokeh_failed_load = false;\n  }\n\n  const NB_LOAD_WARNING = {'data': {'text/html':\n     \"<div style='background-color: #fdd'>\\n\"+\n     \"<p>\\n\"+\n     \"BokehJS does not appear to have successfully loaded. If loading BokehJS from CDN, this \\n\"+\n     \"may be due to a slow or bad network connection. Possible fixes:\\n\"+\n     \"</p>\\n\"+\n     \"<ul>\\n\"+\n     \"<li>re-rerun `output_notebook()` to attempt to load from CDN again, or</li>\\n\"+\n     \"<li>use INLINE resources instead, as so:</li>\\n\"+\n     \"</ul>\\n\"+\n     \"<code>\\n\"+\n     \"from bokeh.resources import INLINE\\n\"+\n     \"output_notebook(resources=INLINE)\\n\"+\n     \"</code>\\n\"+\n     \"</div>\"}};\n\n  function display_loaded() {\n    const el = document.getElementById(\"1002\");\n    if (el != null) {\n      el.textContent = \"BokehJS is loading...\";\n    }\n    if (root.Bokeh !== undefined) {\n      if (el != null) {\n        el.textContent = \"BokehJS \" + root.Bokeh.version + \" successfully loaded.\";\n      }\n    } else if (Date.now() < root._bokeh_timeout) {\n      setTimeout(display_loaded, 100)\n    }\n  }\n\n\n  function run_callbacks() {\n    try {\n      root._bokeh_onload_callbacks.forEach(function(callback) {\n        if (callback != null)\n          callback();\n      });\n    } finally {\n      delete root._bokeh_onload_callbacks\n    }\n    console.debug(\"Bokeh: all callbacks have finished\");\n  }\n\n  function load_libs(css_urls, js_urls, callback) {\n    if (css_urls == null) css_urls = [];\n    if (js_urls == null) js_urls = [];\n\n    root._bokeh_onload_callbacks.push(callback);\n    if (root._bokeh_is_loading > 0) {\n      console.debug(\"Bokeh: BokehJS is being loaded, scheduling callback at\", now());\n      return null;\n    }\n    if (js_urls == null || js_urls.length === 0) {\n      run_callbacks();\n      return null;\n    }\n    console.debug(\"Bokeh: BokehJS not loaded, scheduling load and callback at\", now());\n    root._bokeh_is_loading = css_urls.length + js_urls.length;\n\n    function on_load() {\n      root._bokeh_is_loading--;\n      if (root._bokeh_is_loading === 0) {\n        console.debug(\"Bokeh: all BokehJS libraries/stylesheets loaded\");\n        run_callbacks()\n      }\n    }\n\n    function on_error(url) {\n      console.error(\"failed to load \" + url);\n    }\n\n    for (let i = 0; i < css_urls.length; i++) {\n      const url = css_urls[i];\n      const element = document.createElement(\"link\");\n      element.onload = on_load;\n      element.onerror = on_error.bind(null, url);\n      element.rel = \"stylesheet\";\n      element.type = \"text/css\";\n      element.href = url;\n      console.debug(\"Bokeh: injecting link tag for BokehJS stylesheet: \", url);\n      document.body.appendChild(element);\n    }\n\n    for (let i = 0; i < js_urls.length; i++) {\n      const url = js_urls[i];\n      const element = document.createElement('script');\n      element.onload = on_load;\n      element.onerror = on_error.bind(null, url);\n      element.async = false;\n      element.src = url;\n      console.debug(\"Bokeh: injecting script tag for BokehJS library: \", url);\n      document.head.appendChild(element);\n    }\n  };\n\n  function inject_raw_css(css) {\n    const element = document.createElement(\"style\");\n    element.appendChild(document.createTextNode(css));\n    document.body.appendChild(element);\n  }\n\n  \n  const js_urls = [\"https://cdn.bokeh.org/bokeh/release/bokeh-2.4.1.min.js\", \"https://cdn.bokeh.org/bokeh/release/bokeh-gl-2.4.1.min.js\", \"https://cdn.bokeh.org/bokeh/release/bokeh-widgets-2.4.1.min.js\", \"https://cdn.bokeh.org/bokeh/release/bokeh-tables-2.4.1.min.js\", \"https://cdn.bokeh.org/bokeh/release/bokeh-mathjax-2.4.1.min.js\"];\n  const css_urls = [];\n  \n\n  const inline_js = [\n    function(Bokeh) {\n      Bokeh.set_log_level(\"info\");\n    },\n    function(Bokeh) {\n    \n    \n    }\n  ];\n\n  function run_inline_js() {\n    \n    if (root.Bokeh !== undefined || force === true) {\n      \n    for (let i = 0; i < inline_js.length; i++) {\n      inline_js[i].call(root, root.Bokeh);\n    }\n    if (force === true) {\n        display_loaded();\n      }} else if (Date.now() < root._bokeh_timeout) {\n      setTimeout(run_inline_js, 100);\n    } else if (!root._bokeh_failed_load) {\n      console.log(\"Bokeh: BokehJS failed to load within specified timeout.\");\n      root._bokeh_failed_load = true;\n    } else if (force !== true) {\n      const cell = $(document.getElementById(\"1002\")).parents('.cell').data().cell;\n      cell.output_area.append_execute_result(NB_LOAD_WARNING)\n    }\n\n  }\n\n  if (root._bokeh_is_loading === 0) {\n    console.debug(\"Bokeh: BokehJS loaded, going straight to plotting\");\n    run_inline_js();\n  } else {\n    load_libs(css_urls, js_urls, function() {\n      console.debug(\"Bokeh: BokehJS plotting callback run at\", now());\n      run_inline_js();\n    });\n  }\n}(window));"
     },
     "metadata": {},
     "output_type": "display_data"
    }
   ],
   "source": [
    "\n",
    "%matplotlib widget\n",
    "import matplotlib.pyplot as plt\n",
    "from polygonal_roadmaps import pathfinding\n",
    "import networkx as nx\n",
    "import numpy as np\n",
    "from bokeh.io import show, output_notebook\n",
    "from bokeh.plotting import figure\n",
    "from bokeh.models import Range1d, Plot\n",
    "from bokeh.plotting import from_networkx\n",
    "from bokeh.models.graphs import NodesAndLinkedEdges\n",
    "from bokeh.models import Circle, HoverTool, MultiLine, WheelZoomTool, PanTool\n",
    "from bokeh.transform import linear_cmap, factor_cmap\n",
    "\n",
    "\n",
    "output_notebook()\n",
    "\n"
   ]
  },
  {
   "cell_type": "code",
   "execution_count": 2,
   "id": "7af98b2e-c569-4b6c-8dfb-8bc53a70a2ef",
   "metadata": {},
   "outputs": [],
   "source": [
    "G = pathfinding.gen_example_graph(5,2)\n",
    "pos = nx.get_node_attributes(G, 'pos')"
   ]
  },
  {
   "cell_type": "code",
   "execution_count": 3,
   "id": "a3ab5964-935a-4a8b-a03a-64526e61fe22",
   "metadata": {},
   "outputs": [
    {
     "data": {
      "text/plain": [
       "['a', 'b', 'c', 'd', 'e']"
      ]
     },
     "execution_count": 3,
     "metadata": {},
     "output_type": "execute_result"
    }
   ],
   "source": [
    "pathfinding.spatial_astar(G, 'a', 'e')"
   ]
  },
  {
   "cell_type": "code",
   "execution_count": 4,
   "id": "823d8143-1d9a-4d0d-8294-670e4b92bf6a",
   "metadata": {},
   "outputs": [
    {
     "data": {
      "text/html": [
       "\n",
       "\n",
       "\n",
       "\n",
       "\n",
       "\n",
       "  <div class=\"bk-root\" id=\"132a27e4-3c52-4744-8bb3-880284803d60\" data-root-id=\"1003\"></div>\n"
      ]
     },
     "metadata": {},
     "output_type": "display_data"
    },
    {
     "data": {
      "application/javascript": [
       "(function(root) {\n",
       "  function embed_document(root) {\n",
       "    \n",
       "  const docs_json = {\"95376e85-40ef-4db7-9d56-4bf9a4ae1f13\":{\"defs\":[],\"roots\":{\"references\":[{\"attributes\":{\"below\":[{\"id\":\"1012\"}],\"center\":[{\"id\":\"1015\"},{\"id\":\"1019\"}],\"left\":[{\"id\":\"1016\"}],\"renderers\":[{\"id\":\"1034\"}],\"title\":{\"id\":\"1056\"},\"toolbar\":{\"id\":\"1027\"},\"x_range\":{\"id\":\"1004\"},\"x_scale\":{\"id\":\"1008\"},\"y_range\":{\"id\":\"1006\"},\"y_scale\":{\"id\":\"1010\"}},\"id\":\"1003\",\"subtype\":\"Figure\",\"type\":\"Plot\"},{\"attributes\":{\"axis\":{\"id\":\"1016\"},\"coordinates\":null,\"dimension\":1,\"group\":null,\"ticker\":null},\"id\":\"1019\",\"type\":\"Grid\"},{\"attributes\":{\"coordinates\":null,\"formatter\":{\"id\":\"1068\"},\"group\":null,\"major_label_policy\":{\"id\":\"1069\"},\"ticker\":{\"id\":\"1017\"}},\"id\":\"1016\",\"type\":\"LinearAxis\"},{\"attributes\":{\"graph_layout\":{\"a\":[0,0],\"b\":[1,0],\"c\":[2,0],\"d\":[3,0],\"e\":[4,0],\"f\":[1.5,1],\"g\":[2.5,1]}},\"id\":\"1047\",\"type\":\"StaticLayoutProvider\"},{\"attributes\":{},\"id\":\"1025\",\"type\":\"HelpTool\"},{\"attributes\":{},\"id\":\"1017\",\"type\":\"BasicTicker\"},{\"attributes\":{},\"id\":\"1021\",\"type\":\"WheelZoomTool\"},{\"attributes\":{\"callback\":null,\"tooltips\":\"@index\"},\"id\":\"1054\",\"type\":\"HoverTool\"},{\"attributes\":{},\"id\":\"1013\",\"type\":\"BasicTicker\"},{\"attributes\":{},\"id\":\"1020\",\"type\":\"PanTool\"},{\"attributes\":{\"coordinates\":null,\"edge_renderer\":{\"id\":\"1041\"},\"group\":null,\"inspection_policy\":{\"id\":\"1052\"},\"layout_provider\":{\"id\":\"1047\"},\"node_renderer\":{\"id\":\"1037\"},\"selection_policy\":{\"id\":\"1066\"}},\"id\":\"1034\",\"type\":\"GraphRenderer\"},{\"attributes\":{},\"id\":\"1066\",\"type\":\"NodesOnly\"},{\"attributes\":{\"overlay\":{\"id\":\"1026\"}},\"id\":\"1022\",\"type\":\"BoxZoomTool\"},{\"attributes\":{\"data\":{\"dist\":[1.0,1.0,1.118033988749895,1.0,1.0,1.118033988749895,1.0],\"end\":[\"b\",\"c\",\"f\",\"d\",\"e\",\"g\",\"g\"],\"start\":[\"a\",\"b\",\"b\",\"c\",\"d\",\"d\",\"f\"]},\"selected\":{\"id\":\"1077\"},\"selection_policy\":{\"id\":\"1076\"}},\"id\":\"1040\",\"type\":\"ColumnDataSource\"},{\"attributes\":{},\"id\":\"1023\",\"type\":\"SaveTool\"},{\"attributes\":{},\"id\":\"1024\",\"type\":\"ResetTool\"},{\"attributes\":{\"source\":{\"id\":\"1040\"}},\"id\":\"1042\",\"type\":\"CDSView\"},{\"attributes\":{},\"id\":\"1074\",\"type\":\"UnionRenderers\"},{\"attributes\":{\"coordinates\":null,\"data_source\":{\"id\":\"1036\"},\"glyph\":{\"id\":\"1035\"},\"group\":null,\"hover_glyph\":null,\"view\":{\"id\":\"1038\"}},\"id\":\"1037\",\"type\":\"GlyphRenderer\"},{\"attributes\":{\"radius\":{\"value\":0.1}},\"id\":\"1035\",\"type\":\"Circle\"},{\"attributes\":{\"bottom_units\":\"screen\",\"coordinates\":null,\"fill_alpha\":0.5,\"fill_color\":\"lightgrey\",\"group\":null,\"left_units\":\"screen\",\"level\":\"overlay\",\"line_alpha\":1.0,\"line_color\":\"black\",\"line_dash\":[4,4],\"line_width\":2,\"right_units\":\"screen\",\"syncable\":false,\"top_units\":\"screen\"},\"id\":\"1026\",\"type\":\"BoxAnnotation\"},{\"attributes\":{},\"id\":\"1075\",\"type\":\"Selection\"},{\"attributes\":{\"axis\":{\"id\":\"1012\"},\"coordinates\":null,\"group\":null,\"ticker\":null},\"id\":\"1015\",\"type\":\"Grid\"},{\"attributes\":{\"coordinates\":null,\"group\":null},\"id\":\"1056\",\"type\":\"Title\"},{\"attributes\":{},\"id\":\"1068\",\"type\":\"BasicTickFormatter\"},{\"attributes\":{},\"id\":\"1039\",\"type\":\"MultiLine\"},{\"attributes\":{},\"id\":\"1052\",\"type\":\"NodesAndLinkedEdges\"},{\"attributes\":{},\"id\":\"1006\",\"type\":\"DataRange1d\"},{\"attributes\":{\"coordinates\":null,\"formatter\":{\"id\":\"1071\"},\"group\":null,\"major_label_policy\":{\"id\":\"1072\"},\"ticker\":{\"id\":\"1013\"}},\"id\":\"1012\",\"type\":\"LinearAxis\"},{\"attributes\":{},\"id\":\"1069\",\"type\":\"AllLabels\"},{\"attributes\":{\"data\":{\"index\":[\"a\",\"b\",\"c\",\"d\",\"e\",\"f\",\"g\"],\"pos\":[[0,0],[1,0],[2,0],[3,0],[4,0],[1.5,1],[2.5,1]]},\"selected\":{\"id\":\"1075\"},\"selection_policy\":{\"id\":\"1074\"}},\"id\":\"1036\",\"type\":\"ColumnDataSource\"},{\"attributes\":{\"source\":{\"id\":\"1036\"}},\"id\":\"1038\",\"type\":\"CDSView\"},{\"attributes\":{},\"id\":\"1076\",\"type\":\"UnionRenderers\"},{\"attributes\":{},\"id\":\"1008\",\"type\":\"LinearScale\"},{\"attributes\":{},\"id\":\"1004\",\"type\":\"DataRange1d\"},{\"attributes\":{},\"id\":\"1071\",\"type\":\"BasicTickFormatter\"},{\"attributes\":{},\"id\":\"1077\",\"type\":\"Selection\"},{\"attributes\":{\"tools\":[{\"id\":\"1020\"},{\"id\":\"1021\"},{\"id\":\"1022\"},{\"id\":\"1023\"},{\"id\":\"1024\"},{\"id\":\"1025\"},{\"id\":\"1054\"}]},\"id\":\"1027\",\"type\":\"Toolbar\"},{\"attributes\":{\"coordinates\":null,\"data_source\":{\"id\":\"1040\"},\"glyph\":{\"id\":\"1039\"},\"group\":null,\"hover_glyph\":null,\"view\":{\"id\":\"1042\"}},\"id\":\"1041\",\"type\":\"GlyphRenderer\"},{\"attributes\":{},\"id\":\"1072\",\"type\":\"AllLabels\"},{\"attributes\":{},\"id\":\"1010\",\"type\":\"LinearScale\"}],\"root_ids\":[\"1003\"]},\"title\":\"Bokeh Application\",\"version\":\"2.4.1\"}};\n",
       "  const render_items = [{\"docid\":\"95376e85-40ef-4db7-9d56-4bf9a4ae1f13\",\"root_ids\":[\"1003\"],\"roots\":{\"1003\":\"132a27e4-3c52-4744-8bb3-880284803d60\"}}];\n",
       "  root.Bokeh.embed.embed_items_notebook(docs_json, render_items);\n",
       "\n",
       "  }\n",
       "  if (root.Bokeh !== undefined) {\n",
       "    embed_document(root);\n",
       "  } else {\n",
       "    let attempts = 0;\n",
       "    const timer = setInterval(function(root) {\n",
       "      if (root.Bokeh !== undefined) {\n",
       "        clearInterval(timer);\n",
       "        embed_document(root);\n",
       "      } else {\n",
       "        attempts++;\n",
       "        if (attempts > 100) {\n",
       "          clearInterval(timer);\n",
       "          console.log(\"Bokeh: ERROR: Unable to run BokehJS code because BokehJS library is missing\");\n",
       "        }\n",
       "      }\n",
       "    }, 10, root)\n",
       "  }\n",
       "})(window);"
      ],
      "application/vnd.bokehjs_exec.v0+json": ""
     },
     "metadata": {
      "application/vnd.bokehjs_exec.v0+json": {
       "id": "1003"
      }
     },
     "output_type": "display_data"
    }
   ],
   "source": [
    "# We could use figure here but don't want all the axes and titles\n",
    "plot = figure()\n",
    "#plot.add_tools(WheelZoomTool(), PanTool())\n",
    "\n",
    "# Create a Bokeh graph from the NetworkX input using nx.spring_layout\n",
    "\n",
    "graph = from_networkx(G, pos)\n",
    "plot.renderers.append(graph)\n",
    "\n",
    "# Set some of the default node glyph (Circle) properties\n",
    "graph.node_renderer.glyph.update(radius=.1)\n",
    "\n",
    "# When we hover over nodes, highlight adjecent edges too\n",
    "graph.inspection_policy = NodesAndLinkedEdges()\n",
    "\n",
    "plot.add_tools(HoverTool(tooltips=\"@index\"))\n",
    "\n",
    "show(plot)"
   ]
  },
  {
   "cell_type": "raw",
   "id": "308feb01-fa1b-4e96-84f0-0a52ad7ebb22",
   "metadata": {},
   "source": [
    "# We could use figure here but don't want all the axes and titles\n",
    "plot = Plot(x_range=Range1d(-2, 2), y_range=Range1d(-2, 2))\n",
    "plot.add_tools(WheelZoomTool(), PanTool())\n",
    "\n",
    "# Create a Bokeh graph from the NetworkX input using nx.spring_layout\n",
    "graph = from_networkx(tree, nx.multipartite_layout, subset_key='weight', scale=1.8, center=(0,0))\n",
    "plot.renderers.append(graph)\n",
    "\n",
    "# Set some of the default node glyph (Circle) properties\n",
    "graph.node_renderer.glyph.update(size=20, fill_color=linear_cmap('fitness', 'Viridis256', 0, 15))\n",
    "\n",
    "# Set some edge properties too\n",
    "graph.edge_renderer.glyph.line_dash = [2,2]\n",
    "\n",
    "# When we hover over nodes, highlight adjecent edges too\n",
    "graph.inspection_policy = NodesAndLinkedEdges()\n",
    "\n",
    "plot.add_tools(HoverTool(tooltips=\"nc: @weight, f: @fitness, @solution, @label\"))\n",
    "\n",
    "show(plot)"
   ]
  },
  {
   "cell_type": "raw",
   "id": "20ccf70a-4632-4c78-81f4-4a89ae09b134",
   "metadata": {},
   "source": [
    "G.nodes()['a'].items()"
   ]
  },
  {
   "cell_type": "code",
   "execution_count": 10,
   "id": "1effe0e2-c7c8-4014-86ee-95e854eebe84",
   "metadata": {},
   "outputs": [
    {
     "ename": "TypeError",
     "evalue": "spacetime_astar() got an unexpected keyword argument 'return_graph'",
     "output_type": "error",
     "traceback": [
      "\u001b[0;31m---------------------------------------------------------------------------\u001b[0m",
      "\u001b[0;31mTypeError\u001b[0m                                 Traceback (most recent call last)",
      "\u001b[0;32m<ipython-input-10-2c1f33595337>\u001b[0m in \u001b[0;36m<module>\u001b[0;34m\u001b[0m\n\u001b[1;32m      1\u001b[0m \u001b[0mcost\u001b[0m \u001b[0;34m=\u001b[0m \u001b[0mpathfinding\u001b[0m\u001b[0;34m.\u001b[0m\u001b[0mcompute_cost\u001b[0m\u001b[0;34m(\u001b[0m\u001b[0mG\u001b[0m\u001b[0;34m,\u001b[0m \u001b[0;34m'e'\u001b[0m\u001b[0;34m)\u001b[0m\u001b[0;34m\u001b[0m\u001b[0;34m\u001b[0m\u001b[0m\n\u001b[0;32m----> 2\u001b[0;31m \u001b[0mpath\u001b[0m\u001b[0;34m,\u001b[0m \u001b[0mtemporal_graph\u001b[0m \u001b[0;34m=\u001b[0m \u001b[0mpathfinding\u001b[0m\u001b[0;34m.\u001b[0m\u001b[0mspacetime_astar\u001b[0m\u001b[0;34m(\u001b[0m\u001b[0mG\u001b[0m\u001b[0;34m,\u001b[0m \u001b[0;34m'a'\u001b[0m\u001b[0;34m,\u001b[0m \u001b[0;34m'e'\u001b[0m\u001b[0;34m,\u001b[0m \u001b[0mcost\u001b[0m\u001b[0;34m,\u001b[0m \u001b[0mnode_constraints\u001b[0m\u001b[0;34m=\u001b[0m\u001b[0;34m[\u001b[0m\u001b[0;34m(\u001b[0m\u001b[0;34m'b'\u001b[0m\u001b[0;34m,\u001b[0m \u001b[0;36m1\u001b[0m\u001b[0;34m)\u001b[0m\u001b[0;34m]\u001b[0m\u001b[0;34m,\u001b[0m \u001b[0mlimit\u001b[0m\u001b[0;34m=\u001b[0m\u001b[0;36m10\u001b[0m\u001b[0;34m,\u001b[0m \u001b[0mreturn_graph\u001b[0m\u001b[0;34m=\u001b[0m\u001b[0;32mTrue\u001b[0m\u001b[0;34m)\u001b[0m\u001b[0;34m\u001b[0m\u001b[0;34m\u001b[0m\u001b[0m\n\u001b[0m\u001b[1;32m      3\u001b[0m \u001b[0mpath\u001b[0m\u001b[0;34m\u001b[0m\u001b[0;34m\u001b[0m\u001b[0m\n",
      "\u001b[0;31mTypeError\u001b[0m: spacetime_astar() got an unexpected keyword argument 'return_graph'"
     ]
    }
   ],
   "source": [
    "cost = pathfinding.compute_cost(G, 'e')\n",
    "path, temporal_graph = pathfinding.spacetime_astar(G, 'a', 'e', cost, node_constraints=[('b', 1)], limit=10, return_graph=True)\n",
    "path"
   ]
  },
  {
   "cell_type": "code",
   "execution_count": 6,
   "id": "981d5591-448a-46d3-ba50-e610df3e2038",
   "metadata": {},
   "outputs": [
    {
     "data": {
      "text/html": [
       "\n",
       "\n",
       "\n",
       "\n",
       "\n",
       "\n",
       "  <div class=\"bk-root\" id=\"5e5bfb8b-f749-437f-bdee-6f37bcf4f895\" data-root-id=\"1200\"></div>\n"
      ]
     },
     "metadata": {},
     "output_type": "display_data"
    },
    {
     "data": {
      "application/javascript": [
       "(function(root) {\n",
       "  function embed_document(root) {\n",
       "    \n",
       "  const docs_json = {\"f5f3e4cc-f415-4ac0-94eb-b7893e957d6f\":{\"defs\":[],\"roots\":{\"references\":[{\"attributes\":{\"below\":[{\"id\":\"1209\"}],\"center\":[{\"id\":\"1212\"},{\"id\":\"1216\"}],\"left\":[{\"id\":\"1213\"}],\"renderers\":[{\"id\":\"1231\"}],\"title\":{\"id\":\"1272\"},\"toolbar\":{\"id\":\"1224\"},\"x_range\":{\"id\":\"1201\"},\"x_scale\":{\"id\":\"1205\"},\"y_range\":{\"id\":\"1203\"},\"y_scale\":{\"id\":\"1207\"}},\"id\":\"1200\",\"subtype\":\"Figure\",\"type\":\"Plot\"},{\"attributes\":{\"data\":{\"cost\":[0,null,null,null,null,null,null,1,null,null,null,null,null,null,2,null,null,null,null,null,null,null,3,null,null,null,null,null,null,null,4,null,null,null,null,null,null,null,5,null,null,null,null,null,null,null,null,null,null,null,null,null,null,null,null,null,null,null,null,null,null,null,null,null,null,null,null,null,null],\"index\":[\"nat0\",\"nbt0\",\"nct0\",\"ndt0\",\"net0\",\"nft0\",\"ngt0\",\"nat1\",\"nct1\",\"ndt1\",\"net1\",\"nft1\",\"ngt1\",\"nat2\",\"nbt2\",\"nct2\",\"ndt2\",\"net2\",\"nft2\",\"ngt2\",\"nat3\",\"nbt3\",\"nct3\",\"ndt3\",\"net3\",\"nft3\",\"ngt3\",\"nat4\",\"nbt4\",\"nct4\",\"ndt4\",\"net4\",\"nft4\",\"ngt4\",\"nat5\",\"nbt5\",\"nct5\",\"ndt5\",\"net5\",\"nft5\",\"ngt5\",\"nat6\",\"nbt6\",\"nct6\",\"ndt6\",\"net6\",\"nft6\",\"ngt6\",\"nat7\",\"nbt7\",\"nct7\",\"ndt7\",\"net7\",\"nft7\",\"ngt7\",\"nat8\",\"nbt8\",\"nct8\",\"ndt8\",\"net8\",\"nft8\",\"ngt8\",\"nat9\",\"nbt9\",\"nct9\",\"ndt9\",\"net9\",\"nft9\",\"ngt9\"],\"n\":[\"a\",\"b\",\"c\",\"d\",\"e\",\"f\",\"g\",\"a\",\"c\",\"d\",\"e\",\"f\",\"g\",\"a\",\"b\",\"c\",\"d\",\"e\",\"f\",\"g\",\"a\",\"b\",\"c\",\"d\",\"e\",\"f\",\"g\",\"a\",\"b\",\"c\",\"d\",\"e\",\"f\",\"g\",\"a\",\"b\",\"c\",\"d\",\"e\",\"f\",\"g\",\"a\",\"b\",\"c\",\"d\",\"e\",\"f\",\"g\",\"a\",\"b\",\"c\",\"d\",\"e\",\"f\",\"g\",\"a\",\"b\",\"c\",\"d\",\"e\",\"f\",\"g\",\"a\",\"b\",\"c\",\"d\",\"e\",\"f\",\"g\"],\"t\":[0,0,0,0,0,0,0,1,1,1,1,1,1,2,2,2,2,2,2,2,3,3,3,3,3,3,3,4,4,4,4,4,4,4,5,5,5,5,5,5,5,6,6,6,6,6,6,6,7,7,7,7,7,7,7,8,8,8,8,8,8,8,9,9,9,9,9,9,9]},\"selected\":{\"id\":\"1291\"},\"selection_policy\":{\"id\":\"1290\"}},\"id\":\"1233\",\"type\":\"ColumnDataSource\"},{\"attributes\":{},\"id\":\"1203\",\"type\":\"DataRange1d\"},{\"attributes\":{},\"id\":\"1292\",\"type\":\"UnionRenderers\"},{\"attributes\":{},\"id\":\"1293\",\"type\":\"Selection\"},{\"attributes\":{\"fill_color\":{\"field\":\"cost\",\"transform\":{\"id\":\"1245\"}},\"radius\":{\"value\":0.1}},\"id\":\"1232\",\"type\":\"Circle\"},{\"attributes\":{\"coordinates\":null,\"formatter\":{\"id\":\"1287\"},\"group\":null,\"major_label_policy\":{\"id\":\"1288\"},\"ticker\":{\"id\":\"1210\"}},\"id\":\"1209\",\"type\":\"LinearAxis\"},{\"attributes\":{\"data\":{\"end\":[\"nat1\",\"nbt2\",\"nat2\",\"nat3\",\"nct3\",\"nft3\",\"nbt3\",\"nbt4\",\"ndt4\",\"nct4\",\"nct5\",\"net5\",\"ngt5\",\"ndt5\"],\"start\":[\"nat0\",\"nat1\",\"nat1\",\"nbt2\",\"nbt2\",\"nbt2\",\"nbt2\",\"nct3\",\"nct3\",\"nct3\",\"ndt4\",\"ndt4\",\"ndt4\",\"ndt4\"]},\"selected\":{\"id\":\"1293\"},\"selection_policy\":{\"id\":\"1292\"}},\"id\":\"1237\",\"type\":\"ColumnDataSource\"},{\"attributes\":{\"coordinates\":null,\"edge_renderer\":{\"id\":\"1238\"},\"group\":null,\"inspection_policy\":{\"id\":\"1246\"},\"layout_provider\":{\"id\":\"1240\"},\"node_renderer\":{\"id\":\"1234\"},\"selection_policy\":{\"id\":\"1282\"}},\"id\":\"1231\",\"type\":\"GraphRenderer\"},{\"attributes\":{},\"id\":\"1207\",\"type\":\"LinearScale\"},{\"attributes\":{\"tools\":[{\"id\":\"1217\"},{\"id\":\"1218\"},{\"id\":\"1219\"},{\"id\":\"1220\"},{\"id\":\"1221\"},{\"id\":\"1222\"},{\"id\":\"1248\"}]},\"id\":\"1224\",\"type\":\"Toolbar\"},{\"attributes\":{\"source\":{\"id\":\"1237\"}},\"id\":\"1239\",\"type\":\"CDSView\"},{\"attributes\":{\"coordinates\":null,\"data_source\":{\"id\":\"1233\"},\"glyph\":{\"id\":\"1232\"},\"group\":null,\"hover_glyph\":null,\"view\":{\"id\":\"1235\"}},\"id\":\"1234\",\"type\":\"GlyphRenderer\"},{\"attributes\":{},\"id\":\"1246\",\"type\":\"NodesAndLinkedEdges\"},{\"attributes\":{\"high\":15,\"low\":0,\"palette\":[\"#440154\",\"#440255\",\"#440357\",\"#450558\",\"#45065A\",\"#45085B\",\"#46095C\",\"#460B5E\",\"#460C5F\",\"#460E61\",\"#470F62\",\"#471163\",\"#471265\",\"#471466\",\"#471567\",\"#471669\",\"#47186A\",\"#48196B\",\"#481A6C\",\"#481C6E\",\"#481D6F\",\"#481E70\",\"#482071\",\"#482172\",\"#482273\",\"#482374\",\"#472575\",\"#472676\",\"#472777\",\"#472878\",\"#472A79\",\"#472B7A\",\"#472C7B\",\"#462D7C\",\"#462F7C\",\"#46307D\",\"#46317E\",\"#45327F\",\"#45347F\",\"#453580\",\"#453681\",\"#443781\",\"#443982\",\"#433A83\",\"#433B83\",\"#433C84\",\"#423D84\",\"#423E85\",\"#424085\",\"#414186\",\"#414286\",\"#404387\",\"#404487\",\"#3F4587\",\"#3F4788\",\"#3E4888\",\"#3E4989\",\"#3D4A89\",\"#3D4B89\",\"#3D4C89\",\"#3C4D8A\",\"#3C4E8A\",\"#3B508A\",\"#3B518A\",\"#3A528B\",\"#3A538B\",\"#39548B\",\"#39558B\",\"#38568B\",\"#38578C\",\"#37588C\",\"#37598C\",\"#365A8C\",\"#365B8C\",\"#355C8C\",\"#355D8C\",\"#345E8D\",\"#345F8D\",\"#33608D\",\"#33618D\",\"#32628D\",\"#32638D\",\"#31648D\",\"#31658D\",\"#31668D\",\"#30678D\",\"#30688D\",\"#2F698D\",\"#2F6A8D\",\"#2E6B8E\",\"#2E6C8E\",\"#2E6D8E\",\"#2D6E8E\",\"#2D6F8E\",\"#2C708E\",\"#2C718E\",\"#2C728E\",\"#2B738E\",\"#2B748E\",\"#2A758E\",\"#2A768E\",\"#2A778E\",\"#29788E\",\"#29798E\",\"#287A8E\",\"#287A8E\",\"#287B8E\",\"#277C8E\",\"#277D8E\",\"#277E8E\",\"#267F8E\",\"#26808E\",\"#26818E\",\"#25828E\",\"#25838D\",\"#24848D\",\"#24858D\",\"#24868D\",\"#23878D\",\"#23888D\",\"#23898D\",\"#22898D\",\"#228A8D\",\"#228B8D\",\"#218C8D\",\"#218D8C\",\"#218E8C\",\"#208F8C\",\"#20908C\",\"#20918C\",\"#1F928C\",\"#1F938B\",\"#1F948B\",\"#1F958B\",\"#1F968B\",\"#1E978A\",\"#1E988A\",\"#1E998A\",\"#1E998A\",\"#1E9A89\",\"#1E9B89\",\"#1E9C89\",\"#1E9D88\",\"#1E9E88\",\"#1E9F88\",\"#1EA087\",\"#1FA187\",\"#1FA286\",\"#1FA386\",\"#20A485\",\"#20A585\",\"#21A685\",\"#21A784\",\"#22A784\",\"#23A883\",\"#23A982\",\"#24AA82\",\"#25AB81\",\"#26AC81\",\"#27AD80\",\"#28AE7F\",\"#29AF7F\",\"#2AB07E\",\"#2BB17D\",\"#2CB17D\",\"#2EB27C\",\"#2FB37B\",\"#30B47A\",\"#32B57A\",\"#33B679\",\"#35B778\",\"#36B877\",\"#38B976\",\"#39B976\",\"#3BBA75\",\"#3DBB74\",\"#3EBC73\",\"#40BD72\",\"#42BE71\",\"#44BE70\",\"#45BF6F\",\"#47C06E\",\"#49C16D\",\"#4BC26C\",\"#4DC26B\",\"#4FC369\",\"#51C468\",\"#53C567\",\"#55C666\",\"#57C665\",\"#59C764\",\"#5BC862\",\"#5EC961\",\"#60C960\",\"#62CA5F\",\"#64CB5D\",\"#67CC5C\",\"#69CC5B\",\"#6BCD59\",\"#6DCE58\",\"#70CE56\",\"#72CF55\",\"#74D054\",\"#77D052\",\"#79D151\",\"#7CD24F\",\"#7ED24E\",\"#81D34C\",\"#83D34B\",\"#86D449\",\"#88D547\",\"#8BD546\",\"#8DD644\",\"#90D643\",\"#92D741\",\"#95D73F\",\"#97D83E\",\"#9AD83C\",\"#9DD93A\",\"#9FD938\",\"#A2DA37\",\"#A5DA35\",\"#A7DB33\",\"#AADB32\",\"#ADDC30\",\"#AFDC2E\",\"#B2DD2C\",\"#B5DD2B\",\"#B7DD29\",\"#BADE27\",\"#BDDE26\",\"#BFDF24\",\"#C2DF22\",\"#C5DF21\",\"#C7E01F\",\"#CAE01E\",\"#CDE01D\",\"#CFE11C\",\"#D2E11B\",\"#D4E11A\",\"#D7E219\",\"#DAE218\",\"#DCE218\",\"#DFE318\",\"#E1E318\",\"#E4E318\",\"#E7E419\",\"#E9E419\",\"#ECE41A\",\"#EEE51B\",\"#F1E51C\",\"#F3E51E\",\"#F6E61F\",\"#F8E621\",\"#FAE622\",\"#FDE724\"]},\"id\":\"1245\",\"type\":\"LinearColorMapper\"},{\"attributes\":{\"coordinates\":null,\"group\":null},\"id\":\"1272\",\"type\":\"Title\"},{\"attributes\":{},\"id\":\"1214\",\"type\":\"BasicTicker\"},{\"attributes\":{\"graph_layout\":{\"nat0\":[-1.0,0.6592356687898089],\"nat1\":[-0.7802547770700636,0.5493630573248408],\"nat2\":[-0.5605095541401274,0.6592356687898089],\"nat3\":[-0.3407643312101911,0.6592356687898089],\"nat4\":[-0.12101910828025478,0.6592356687898089],\"nat5\":[0.09872611464968153,0.6592356687898089],\"nat6\":[0.3184713375796178,0.6592356687898089],\"nat7\":[0.5382165605095542,0.6592356687898089],\"nat8\":[0.7579617834394905,0.6592356687898089],\"nat9\":[0.9777070063694269,0.6592356687898089],\"nbt0\":[-1.0,0.4394904458598726],\"nbt2\":[-0.5605095541401274,0.4394904458598726],\"nbt3\":[-0.3407643312101911,0.4394904458598726],\"nbt4\":[-0.12101910828025478,0.4394904458598726],\"nbt5\":[0.09872611464968153,0.4394904458598726],\"nbt6\":[0.3184713375796178,0.4394904458598726],\"nbt7\":[0.5382165605095542,0.4394904458598726],\"nbt8\":[0.7579617834394905,0.4394904458598726],\"nbt9\":[0.9777070063694269,0.4394904458598726],\"nct0\":[-1.0,0.2197452229299363],\"nct1\":[-0.7802547770700636,0.32961783439490444],\"nct2\":[-0.5605095541401274,0.2197452229299363],\"nct3\":[-0.3407643312101911,0.2197452229299363],\"nct4\":[-0.12101910828025478,0.2197452229299363],\"nct5\":[0.09872611464968153,0.2197452229299363],\"nct6\":[0.3184713375796178,0.2197452229299363],\"nct7\":[0.5382165605095542,0.2197452229299363],\"nct8\":[0.7579617834394905,0.2197452229299363],\"nct9\":[0.9777070063694269,0.2197452229299363],\"ndt0\":[-1.0,0.0],\"ndt1\":[-0.7802547770700636,0.10987261146496816],\"ndt2\":[-0.5605095541401274,0.0],\"ndt3\":[-0.3407643312101911,0.0],\"ndt4\":[-0.12101910828025478,0.0],\"ndt5\":[0.09872611464968153,0.0],\"ndt6\":[0.3184713375796178,0.0],\"ndt7\":[0.5382165605095542,0.0],\"ndt8\":[0.7579617834394905,0.0],\"ndt9\":[0.9777070063694269,0.0],\"net0\":[-1.0,-0.2197452229299363],\"net1\":[-0.7802547770700636,-0.10987261146496816],\"net2\":[-0.5605095541401274,-0.2197452229299363],\"net3\":[-0.3407643312101911,-0.2197452229299363],\"net4\":[-0.12101910828025478,-0.2197452229299363],\"net5\":[0.09872611464968153,-0.2197452229299363],\"net6\":[0.3184713375796178,-0.2197452229299363],\"net7\":[0.5382165605095542,-0.2197452229299363],\"net8\":[0.7579617834394905,-0.2197452229299363],\"net9\":[0.9777070063694269,-0.2197452229299363],\"nft0\":[-1.0,-0.4394904458598726],\"nft1\":[-0.7802547770700636,-0.32961783439490444],\"nft2\":[-0.5605095541401274,-0.4394904458598726],\"nft3\":[-0.3407643312101911,-0.4394904458598726],\"nft4\":[-0.12101910828025478,-0.4394904458598726],\"nft5\":[0.09872611464968153,-0.4394904458598726],\"nft6\":[0.3184713375796178,-0.4394904458598726],\"nft7\":[0.5382165605095542,-0.4394904458598726],\"nft8\":[0.7579617834394905,-0.4394904458598726],\"nft9\":[0.9777070063694269,-0.4394904458598726],\"ngt0\":[-1.0,-0.6592356687898089],\"ngt1\":[-0.7802547770700636,-0.5493630573248408],\"ngt2\":[-0.5605095541401274,-0.6592356687898089],\"ngt3\":[-0.3407643312101911,-0.6592356687898089],\"ngt4\":[-0.12101910828025478,-0.6592356687898089],\"ngt5\":[0.09872611464968153,-0.6592356687898089],\"ngt6\":[0.3184713375796178,-0.6592356687898089],\"ngt7\":[0.5382165605095542,-0.6592356687898089],\"ngt8\":[0.7579617834394905,-0.6592356687898089],\"ngt9\":[0.9777070063694269,-0.6592356687898089]}},\"id\":\"1240\",\"type\":\"StaticLayoutProvider\"},{\"attributes\":{},\"id\":\"1287\",\"type\":\"BasicTickFormatter\"},{\"attributes\":{},\"id\":\"1282\",\"type\":\"NodesOnly\"},{\"attributes\":{\"coordinates\":null,\"data_source\":{\"id\":\"1237\"},\"glyph\":{\"id\":\"1236\"},\"group\":null,\"hover_glyph\":null,\"view\":{\"id\":\"1239\"}},\"id\":\"1238\",\"type\":\"GlyphRenderer\"},{\"attributes\":{},\"id\":\"1221\",\"type\":\"ResetTool\"},{\"attributes\":{},\"id\":\"1222\",\"type\":\"HelpTool\"},{\"attributes\":{\"axis\":{\"id\":\"1209\"},\"coordinates\":null,\"group\":null,\"ticker\":null},\"id\":\"1212\",\"type\":\"Grid\"},{\"attributes\":{\"bottom_units\":\"screen\",\"coordinates\":null,\"fill_alpha\":0.5,\"fill_color\":\"lightgrey\",\"group\":null,\"left_units\":\"screen\",\"level\":\"overlay\",\"line_alpha\":1.0,\"line_color\":\"black\",\"line_dash\":[4,4],\"line_width\":2,\"right_units\":\"screen\",\"syncable\":false,\"top_units\":\"screen\"},\"id\":\"1223\",\"type\":\"BoxAnnotation\"},{\"attributes\":{\"axis\":{\"id\":\"1213\"},\"coordinates\":null,\"dimension\":1,\"group\":null,\"ticker\":null},\"id\":\"1216\",\"type\":\"Grid\"},{\"attributes\":{},\"id\":\"1288\",\"type\":\"AllLabels\"},{\"attributes\":{\"callback\":null,\"tooltips\":\"@index, cost: @cost\"},\"id\":\"1248\",\"type\":\"HoverTool\"},{\"attributes\":{},\"id\":\"1201\",\"type\":\"DataRange1d\"},{\"attributes\":{},\"id\":\"1218\",\"type\":\"WheelZoomTool\"},{\"attributes\":{},\"id\":\"1290\",\"type\":\"UnionRenderers\"},{\"attributes\":{},\"id\":\"1284\",\"type\":\"BasicTickFormatter\"},{\"attributes\":{},\"id\":\"1220\",\"type\":\"SaveTool\"},{\"attributes\":{},\"id\":\"1210\",\"type\":\"BasicTicker\"},{\"attributes\":{},\"id\":\"1291\",\"type\":\"Selection\"},{\"attributes\":{},\"id\":\"1205\",\"type\":\"LinearScale\"},{\"attributes\":{},\"id\":\"1285\",\"type\":\"AllLabels\"},{\"attributes\":{},\"id\":\"1236\",\"type\":\"MultiLine\"},{\"attributes\":{\"overlay\":{\"id\":\"1223\"}},\"id\":\"1219\",\"type\":\"BoxZoomTool\"},{\"attributes\":{\"source\":{\"id\":\"1233\"}},\"id\":\"1235\",\"type\":\"CDSView\"},{\"attributes\":{\"coordinates\":null,\"formatter\":{\"id\":\"1284\"},\"group\":null,\"major_label_policy\":{\"id\":\"1285\"},\"ticker\":{\"id\":\"1214\"}},\"id\":\"1213\",\"type\":\"LinearAxis\"},{\"attributes\":{},\"id\":\"1217\",\"type\":\"PanTool\"}],\"root_ids\":[\"1200\"]},\"title\":\"Bokeh Application\",\"version\":\"2.4.1\"}};\n",
       "  const render_items = [{\"docid\":\"f5f3e4cc-f415-4ac0-94eb-b7893e957d6f\",\"root_ids\":[\"1200\"],\"roots\":{\"1200\":\"5e5bfb8b-f749-437f-bdee-6f37bcf4f895\"}}];\n",
       "  root.Bokeh.embed.embed_items_notebook(docs_json, render_items);\n",
       "\n",
       "  }\n",
       "  if (root.Bokeh !== undefined) {\n",
       "    embed_document(root);\n",
       "  } else {\n",
       "    let attempts = 0;\n",
       "    const timer = setInterval(function(root) {\n",
       "      if (root.Bokeh !== undefined) {\n",
       "        clearInterval(timer);\n",
       "        embed_document(root);\n",
       "      } else {\n",
       "        attempts++;\n",
       "        if (attempts > 100) {\n",
       "          clearInterval(timer);\n",
       "          console.log(\"Bokeh: ERROR: Unable to run BokehJS code because BokehJS library is missing\");\n",
       "        }\n",
       "      }\n",
       "    }, 10, root)\n",
       "  }\n",
       "})(window);"
      ],
      "application/vnd.bokehjs_exec.v0+json": ""
     },
     "metadata": {
      "application/vnd.bokehjs_exec.v0+json": {
       "id": "1200"
      }
     },
     "output_type": "display_data"
    }
   ],
   "source": [
    "# We could use figure here but don't want all the axes and titles\n",
    "plot = figure()\n",
    "#plot.add_tools(WheelZoomTool(), PanTool())\n",
    "\n",
    "# Create a Bokeh graph from the NetworkX input using nx.spring_layout\n",
    "\n",
    "graph = from_networkx(temporal_graph, nx.multipartite_layout, subset_key='t')\n",
    "plot.renderers.append(graph)\n",
    "\n",
    "# Set some of the default node glyph (Circle) properties\n",
    "graph.node_renderer.glyph.update(radius=.1, fill_color=linear_cmap('cost', 'Viridis256', 0, 15))\n",
    "\n",
    "# When we hover over nodes, highlight adjecent edges too\n",
    "graph.inspection_policy = NodesAndLinkedEdges()\n",
    "\n",
    "plot.add_tools(HoverTool(tooltips=\"@index, cost: @cost\"))\n",
    "\n",
    "show(plot)"
   ]
  },
  {
   "cell_type": "code",
   "execution_count": 7,
   "id": "d528c135-26c8-406e-802f-966364075b1a",
   "metadata": {},
   "outputs": [
    {
     "data": {
      "application/vnd.jupyter.widget-view+json": {
       "model_id": "b3baf565d7a3410abe31b17a748660b7",
       "version_major": 2,
       "version_minor": 0
      },
      "image/png": "[encoded data removed]",
      "text/plain": [
       "Canvas(toolbar=Toolbar(toolitems=[('Home', 'Reset original view', 'home', 'home'), ('Back', 'Back to previous …"
      ]
     },
     "metadata": {},
     "output_type": "display_data"
    }
   ],
   "source": [
    "nx.draw(temporal_graph)"
   ]
  },
  {
   "cell_type": "code",
   "execution_count": 8,
   "id": "ee8c204b-1cff-4028-89bf-ecdf8fe885b1",
   "metadata": {},
   "outputs": [],
   "source": [
    "t = nx.DiGraph()\n",
    "t.add_nodes_from(pathfinding.temporal_node_list(G, 3, []))"
   ]
  },
  {
   "cell_type": "code",
   "execution_count": 9,
   "id": "c402c97b-f635-4dca-856b-6657a292040d",
   "metadata": {},
   "outputs": [
    {
     "data": {
      "text/plain": [
       "NodeView(('nat0', 'nbt0', 'nct0', 'ndt0', 'net0', 'nft0', 'ngt0', 'nat1', 'nbt1', 'nct1', 'ndt1', 'net1', 'nft1', 'ngt1', 'nat2', 'nbt2', 'nct2', 'ndt2', 'net2', 'nft2', 'ngt2'))"
      ]
     },
     "execution_count": 9,
     "metadata": {},
     "output_type": "execute_result"
    }
   ],
   "source": [
    "t.nodes()"
   ]
  },
  {
   "cell_type": "code",
   "execution_count": null,
   "id": "f931eafe-0d03-43ac-a2c5-816d3d03b720",
   "metadata": {},
   "outputs": [],
   "source": []
  }
 ],
 "metadata": {
  "kernelspec": {
   "display_name": "Python 3",
   "language": "python",
   "name": "python3"
  },
  "language_info": {
   "codemirror_mode": {
    "name": "ipython",
    "version": 3
   },
   "file_extension": ".py",
   "mimetype": "text/x-python",
   "name": "python",
   "nbconvert_exporter": "python",
   "pygments_lexer": "ipython3",
   "version": "3.9.7"
  }
 },
 "nbformat": 4,
 "nbformat_minor": 5
}
