{
 "cells": [
  {
   "cell_type": "code",
   "execution_count": 1,
   "id": "2403f850-fafd-46da-ba32-e080a6e847a8",
   "metadata": {},
   "outputs": [
    {
     "data": {
      "text/html": [
       "\n",
       "    <div class=\"bk-root\">\n",
       "        <a href=\"https://bokeh.org\" target=\"_blank\" class=\"bk-logo bk-logo-small bk-logo-notebook\"></a>\n",
       "        <span id=\"1002\">Loading BokehJS ...</span>\n",
       "    </div>"
      ]
     },
     "metadata": {},
     "output_type": "display_data"
    },
    {
     "data": {
      "application/javascript": [
       "\n",
       "(function(root) {\n",
       "  function now() {\n",
       "    return new Date();\n",
       "  }\n",
       "\n",
       "  const force = true;\n",
       "\n",
       "  if (typeof root._bokeh_onload_callbacks === \"undefined\" || force === true) {\n",
       "    root._bokeh_onload_callbacks = [];\n",
       "    root._bokeh_is_loading = undefined;\n",
       "  }\n",
       "\n",
       "  const JS_MIME_TYPE = 'application/javascript';\n",
       "  const HTML_MIME_TYPE = 'text/html';\n",
       "  const EXEC_MIME_TYPE = 'application/vnd.bokehjs_exec.v0+json';\n",
       "  const CLASS_NAME = 'output_bokeh rendered_html';\n",
       "\n",
       "  /**\n",
       "   * Render data to the DOM node\n",
       "   */\n",
       "  function render(props, node) {\n",
       "    const script = document.createElement(\"script\");\n",
       "    node.appendChild(script);\n",
       "  }\n",
       "\n",
       "  /**\n",
       "   * Handle when an output is cleared or removed\n",
       "   */\n",
       "  function handleClearOutput(event, handle) {\n",
       "    const cell = handle.cell;\n",
       "\n",
       "    const id = cell.output_area._bokeh_element_id;\n",
       "    const server_id = cell.output_area._bokeh_server_id;\n",
       "    // Clean up Bokeh references\n",
       "    if (id != null && id in Bokeh.index) {\n",
       "      Bokeh.index[id].model.document.clear();\n",
       "      delete Bokeh.index[id];\n",
       "    }\n",
       "\n",
       "    if (server_id !== undefined) {\n",
       "      // Clean up Bokeh references\n",
       "      const cmd_clean = \"from bokeh.io.state import curstate; print(curstate().uuid_to_server['\" + server_id + \"'].get_sessions()[0].document.roots[0]._id)\";\n",
       "      cell.notebook.kernel.execute(cmd_clean, {\n",
       "        iopub: {\n",
       "          output: function(msg) {\n",
       "            const id = msg.content.text.trim();\n",
       "            if (id in Bokeh.index) {\n",
       "              Bokeh.index[id].model.document.clear();\n",
       "              delete Bokeh.index[id];\n",
       "            }\n",
       "          }\n",
       "        }\n",
       "      });\n",
       "      // Destroy server and session\n",
       "      const cmd_destroy = \"import bokeh.io.notebook as ion; ion.destroy_server('\" + server_id + \"')\";\n",
       "      cell.notebook.kernel.execute(cmd_destroy);\n",
       "    }\n",
       "  }\n",
       "\n",
       "  /**\n",
       "   * Handle when a new output is added\n",
       "   */\n",
       "  function handleAddOutput(event, handle) {\n",
       "    const output_area = handle.output_area;\n",
       "    const output = handle.output;\n",
       "\n",
       "    // limit handleAddOutput to display_data with EXEC_MIME_TYPE content only\n",
       "    if ((output.output_type != \"display_data\") || (!Object.prototype.hasOwnProperty.call(output.data, EXEC_MIME_TYPE))) {\n",
       "      return\n",
       "    }\n",
       "\n",
       "    const toinsert = output_area.element.find(\".\" + CLASS_NAME.split(' ')[0]);\n",
       "\n",
       "    if (output.metadata[EXEC_MIME_TYPE][\"id\"] !== undefined) {\n",
       "      toinsert[toinsert.length - 1].firstChild.textContent = output.data[JS_MIME_TYPE];\n",
       "      // store reference to embed id on output_area\n",
       "      output_area._bokeh_element_id = output.metadata[EXEC_MIME_TYPE][\"id\"];\n",
       "    }\n",
       "    if (output.metadata[EXEC_MIME_TYPE][\"server_id\"] !== undefined) {\n",
       "      const bk_div = document.createElement(\"div\");\n",
       "      bk_div.innerHTML = output.data[HTML_MIME_TYPE];\n",
       "      const script_attrs = bk_div.children[0].attributes;\n",
       "      for (let i = 0; i < script_attrs.length; i++) {\n",
       "        toinsert[toinsert.length - 1].firstChild.setAttribute(script_attrs[i].name, script_attrs[i].value);\n",
       "        toinsert[toinsert.length - 1].firstChild.textContent = bk_div.children[0].textContent\n",
       "      }\n",
       "      // store reference to server id on output_area\n",
       "      output_area._bokeh_server_id = output.metadata[EXEC_MIME_TYPE][\"server_id\"];\n",
       "    }\n",
       "  }\n",
       "\n",
       "  function register_renderer(events, OutputArea) {\n",
       "\n",
       "    function append_mime(data, metadata, element) {\n",
       "      // create a DOM node to render to\n",
       "      const toinsert = this.create_output_subarea(\n",
       "        metadata,\n",
       "        CLASS_NAME,\n",
       "        EXEC_MIME_TYPE\n",
       "      );\n",
       "      this.keyboard_manager.register_events(toinsert);\n",
       "      // Render to node\n",
       "      const props = {data: data, metadata: metadata[EXEC_MIME_TYPE]};\n",
       "      render(props, toinsert[toinsert.length - 1]);\n",
       "      element.append(toinsert);\n",
       "      return toinsert\n",
       "    }\n",
       "\n",
       "    /* Handle when an output is cleared or removed */\n",
       "    events.on('clear_output.CodeCell', handleClearOutput);\n",
       "    events.on('delete.Cell', handleClearOutput);\n",
       "\n",
       "    /* Handle when a new output is added */\n",
       "    events.on('output_added.OutputArea', handleAddOutput);\n",
       "\n",
       "    /**\n",
       "     * Register the mime type and append_mime function with output_area\n",
       "     */\n",
       "    OutputArea.prototype.register_mime_type(EXEC_MIME_TYPE, append_mime, {\n",
       "      /* Is output safe? */\n",
       "      safe: true,\n",
       "      /* Index of renderer in `output_area.display_order` */\n",
       "      index: 0\n",
       "    });\n",
       "  }\n",
       "\n",
       "  // register the mime type if in Jupyter Notebook environment and previously unregistered\n",
       "  if (root.Jupyter !== undefined) {\n",
       "    const events = require('base/js/events');\n",
       "    const OutputArea = require('notebook/js/outputarea').OutputArea;\n",
       "\n",
       "    if (OutputArea.prototype.mime_types().indexOf(EXEC_MIME_TYPE) == -1) {\n",
       "      register_renderer(events, OutputArea);\n",
       "    }\n",
       "  }\n",
       "\n",
       "  \n",
       "  if (typeof (root._bokeh_timeout) === \"undefined\" || force === true) {\n",
       "    root._bokeh_timeout = Date.now() + 5000;\n",
       "    root._bokeh_failed_load = false;\n",
       "  }\n",
       "\n",
       "  const NB_LOAD_WARNING = {'data': {'text/html':\n",
       "     \"<div style='background-color: #fdd'>\\n\"+\n",
       "     \"<p>\\n\"+\n",
       "     \"BokehJS does not appear to have successfully loaded. If loading BokehJS from CDN, this \\n\"+\n",
       "     \"may be due to a slow or bad network connection. Possible fixes:\\n\"+\n",
       "     \"</p>\\n\"+\n",
       "     \"<ul>\\n\"+\n",
       "     \"<li>re-rerun `output_notebook()` to attempt to load from CDN again, or</li>\\n\"+\n",
       "     \"<li>use INLINE resources instead, as so:</li>\\n\"+\n",
       "     \"</ul>\\n\"+\n",
       "     \"<code>\\n\"+\n",
       "     \"from bokeh.resources import INLINE\\n\"+\n",
       "     \"output_notebook(resources=INLINE)\\n\"+\n",
       "     \"</code>\\n\"+\n",
       "     \"</div>\"}};\n",
       "\n",
       "  function display_loaded() {\n",
       "    const el = document.getElementById(\"1002\");\n",
       "    if (el != null) {\n",
       "      el.textContent = \"BokehJS is loading...\";\n",
       "    }\n",
       "    if (root.Bokeh !== undefined) {\n",
       "      if (el != null) {\n",
       "        el.textContent = \"BokehJS \" + root.Bokeh.version + \" successfully loaded.\";\n",
       "      }\n",
       "    } else if (Date.now() < root._bokeh_timeout) {\n",
       "      setTimeout(display_loaded, 100)\n",
       "    }\n",
       "  }\n",
       "\n",
       "\n",
       "  function run_callbacks() {\n",
       "    try {\n",
       "      root._bokeh_onload_callbacks.forEach(function(callback) {\n",
       "        if (callback != null)\n",
       "          callback();\n",
       "      });\n",
       "    } finally {\n",
       "      delete root._bokeh_onload_callbacks\n",
       "    }\n",
       "    console.debug(\"Bokeh: all callbacks have finished\");\n",
       "  }\n",
       "\n",
       "  function load_libs(css_urls, js_urls, callback) {\n",
       "    if (css_urls == null) css_urls = [];\n",
       "    if (js_urls == null) js_urls = [];\n",
       "\n",
       "    root._bokeh_onload_callbacks.push(callback);\n",
       "    if (root._bokeh_is_loading > 0) {\n",
       "      console.debug(\"Bokeh: BokehJS is being loaded, scheduling callback at\", now());\n",
       "      return null;\n",
       "    }\n",
       "    if (js_urls == null || js_urls.length === 0) {\n",
       "      run_callbacks();\n",
       "      return null;\n",
       "    }\n",
       "    console.debug(\"Bokeh: BokehJS not loaded, scheduling load and callback at\", now());\n",
       "    root._bokeh_is_loading = css_urls.length + js_urls.length;\n",
       "\n",
       "    function on_load() {\n",
       "      root._bokeh_is_loading--;\n",
       "      if (root._bokeh_is_loading === 0) {\n",
       "        console.debug(\"Bokeh: all BokehJS libraries/stylesheets loaded\");\n",
       "        run_callbacks()\n",
       "      }\n",
       "    }\n",
       "\n",
       "    function on_error(url) {\n",
       "      console.error(\"failed to load \" + url);\n",
       "    }\n",
       "\n",
       "    for (let i = 0; i < css_urls.length; i++) {\n",
       "      const url = css_urls[i];\n",
       "      const element = document.createElement(\"link\");\n",
       "      element.onload = on_load;\n",
       "      element.onerror = on_error.bind(null, url);\n",
       "      element.rel = \"stylesheet\";\n",
       "      element.type = \"text/css\";\n",
       "      element.href = url;\n",
       "      console.debug(\"Bokeh: injecting link tag for BokehJS stylesheet: \", url);\n",
       "      document.body.appendChild(element);\n",
       "    }\n",
       "\n",
       "    for (let i = 0; i < js_urls.length; i++) {\n",
       "      const url = js_urls[i];\n",
       "      const element = document.createElement('script');\n",
       "      element.onload = on_load;\n",
       "      element.onerror = on_error.bind(null, url);\n",
       "      element.async = false;\n",
       "      element.src = url;\n",
       "      console.debug(\"Bokeh: injecting script tag for BokehJS library: \", url);\n",
       "      document.head.appendChild(element);\n",
       "    }\n",
       "  };\n",
       "\n",
       "  function inject_raw_css(css) {\n",
       "    const element = document.createElement(\"style\");\n",
       "    element.appendChild(document.createTextNode(css));\n",
       "    document.body.appendChild(element);\n",
       "  }\n",
       "\n",
       "  \n",
       "  const js_urls = [\"https://cdn.bokeh.org/bokeh/release/bokeh-2.4.1.min.js\", \"https://cdn.bokeh.org/bokeh/release/bokeh-gl-2.4.1.min.js\", \"https://cdn.bokeh.org/bokeh/release/bokeh-widgets-2.4.1.min.js\", \"https://cdn.bokeh.org/bokeh/release/bokeh-tables-2.4.1.min.js\", \"https://cdn.bokeh.org/bokeh/release/bokeh-mathjax-2.4.1.min.js\"];\n",
       "  const css_urls = [];\n",
       "  \n",
       "\n",
       "  const inline_js = [\n",
       "    function(Bokeh) {\n",
       "      Bokeh.set_log_level(\"info\");\n",
       "    },\n",
       "    function(Bokeh) {\n",
       "    \n",
       "    \n",
       "    }\n",
       "  ];\n",
       "\n",
       "  function run_inline_js() {\n",
       "    \n",
       "    if (root.Bokeh !== undefined || force === true) {\n",
       "      \n",
       "    for (let i = 0; i < inline_js.length; i++) {\n",
       "      inline_js[i].call(root, root.Bokeh);\n",
       "    }\n",
       "    if (force === true) {\n",
       "        display_loaded();\n",
       "      }} else if (Date.now() < root._bokeh_timeout) {\n",
       "      setTimeout(run_inline_js, 100);\n",
       "    } else if (!root._bokeh_failed_load) {\n",
       "      console.log(\"Bokeh: BokehJS failed to load within specified timeout.\");\n",
       "      root._bokeh_failed_load = true;\n",
       "    } else if (force !== true) {\n",
       "      const cell = $(document.getElementById(\"1002\")).parents('.cell').data().cell;\n",
       "      cell.output_area.append_execute_result(NB_LOAD_WARNING)\n",
       "    }\n",
       "\n",
       "  }\n",
       "\n",
       "  if (root._bokeh_is_loading === 0) {\n",
       "    console.debug(\"Bokeh: BokehJS loaded, going straight to plotting\");\n",
       "    run_inline_js();\n",
       "  } else {\n",
       "    load_libs(css_urls, js_urls, function() {\n",
       "      console.debug(\"Bokeh: BokehJS plotting callback run at\", now());\n",
       "      run_inline_js();\n",
       "    });\n",
       "  }\n",
       "}(window));"
      ],
      "application/vnd.bokehjs_load.v0+json": "\n(function(root) {\n  function now() {\n    return new Date();\n  }\n\n  const force = true;\n\n  if (typeof root._bokeh_onload_callbacks === \"undefined\" || force === true) {\n    root._bokeh_onload_callbacks = [];\n    root._bokeh_is_loading = undefined;\n  }\n\n  \n\n  \n  if (typeof (root._bokeh_timeout) === \"undefined\" || force === true) {\n    root._bokeh_timeout = Date.now() + 5000;\n    root._bokeh_failed_load = false;\n  }\n\n  const NB_LOAD_WARNING = {'data': {'text/html':\n     \"<div style='background-color: #fdd'>\\n\"+\n     \"<p>\\n\"+\n     \"BokehJS does not appear to have successfully loaded. If loading BokehJS from CDN, this \\n\"+\n     \"may be due to a slow or bad network connection. Possible fixes:\\n\"+\n     \"</p>\\n\"+\n     \"<ul>\\n\"+\n     \"<li>re-rerun `output_notebook()` to attempt to load from CDN again, or</li>\\n\"+\n     \"<li>use INLINE resources instead, as so:</li>\\n\"+\n     \"</ul>\\n\"+\n     \"<code>\\n\"+\n     \"from bokeh.resources import INLINE\\n\"+\n     \"output_notebook(resources=INLINE)\\n\"+\n     \"</code>\\n\"+\n     \"</div>\"}};\n\n  function display_loaded() {\n    const el = document.getElementById(\"1002\");\n    if (el != null) {\n      el.textContent = \"BokehJS is loading...\";\n    }\n    if (root.Bokeh !== undefined) {\n      if (el != null) {\n        el.textContent = \"BokehJS \" + root.Bokeh.version + \" successfully loaded.\";\n      }\n    } else if (Date.now() < root._bokeh_timeout) {\n      setTimeout(display_loaded, 100)\n    }\n  }\n\n\n  function run_callbacks() {\n    try {\n      root._bokeh_onload_callbacks.forEach(function(callback) {\n        if (callback != null)\n          callback();\n      });\n    } finally {\n      delete root._bokeh_onload_callbacks\n    }\n    console.debug(\"Bokeh: all callbacks have finished\");\n  }\n\n  function load_libs(css_urls, js_urls, callback) {\n    if (css_urls == null) css_urls = [];\n    if (js_urls == null) js_urls = [];\n\n    root._bokeh_onload_callbacks.push(callback);\n    if (root._bokeh_is_loading > 0) {\n      console.debug(\"Bokeh: BokehJS is being loaded, scheduling callback at\", now());\n      return null;\n    }\n    if (js_urls == null || js_urls.length === 0) {\n      run_callbacks();\n      return null;\n    }\n    console.debug(\"Bokeh: BokehJS not loaded, scheduling load and callback at\", now());\n    root._bokeh_is_loading = css_urls.length + js_urls.length;\n\n    function on_load() {\n      root._bokeh_is_loading--;\n      if (root._bokeh_is_loading === 0) {\n        console.debug(\"Bokeh: all BokehJS libraries/stylesheets loaded\");\n        run_callbacks()\n      }\n    }\n\n    function on_error(url) {\n      console.error(\"failed to load \" + url);\n    }\n\n    for (let i = 0; i < css_urls.length; i++) {\n      const url = css_urls[i];\n      const element = document.createElement(\"link\");\n      element.onload = on_load;\n      element.onerror = on_error.bind(null, url);\n      element.rel = \"stylesheet\";\n      element.type = \"text/css\";\n      element.href = url;\n      console.debug(\"Bokeh: injecting link tag for BokehJS stylesheet: \", url);\n      document.body.appendChild(element);\n    }\n\n    for (let i = 0; i < js_urls.length; i++) {\n      const url = js_urls[i];\n      const element = document.createElement('script');\n      element.onload = on_load;\n      element.onerror = on_error.bind(null, url);\n      element.async = false;\n      element.src = url;\n      console.debug(\"Bokeh: injecting script tag for BokehJS library: \", url);\n      document.head.appendChild(element);\n    }\n  };\n\n  function inject_raw_css(css) {\n    const element = document.createElement(\"style\");\n    element.appendChild(document.createTextNode(css));\n    document.body.appendChild(element);\n  }\n\n  \n  const js_urls = [\"https://cdn.bokeh.org/bokeh/release/bokeh-2.4.1.min.js\", \"https://cdn.bokeh.org/bokeh/release/bokeh-gl-2.4.1.min.js\", \"https://cdn.bokeh.org/bokeh/release/bokeh-widgets-2.4.1.min.js\", \"https://cdn.bokeh.org/bokeh/release/bokeh-tables-2.4.1.min.js\", \"https://cdn.bokeh.org/bokeh/release/bokeh-mathjax-2.4.1.min.js\"];\n  const css_urls = [];\n  \n\n  const inline_js = [\n    function(Bokeh) {\n      Bokeh.set_log_level(\"info\");\n    },\n    function(Bokeh) {\n    \n    \n    }\n  ];\n\n  function run_inline_js() {\n    \n    if (root.Bokeh !== undefined || force === true) {\n      \n    for (let i = 0; i < inline_js.length; i++) {\n      inline_js[i].call(root, root.Bokeh);\n    }\n    if (force === true) {\n        display_loaded();\n      }} else if (Date.now() < root._bokeh_timeout) {\n      setTimeout(run_inline_js, 100);\n    } else if (!root._bokeh_failed_load) {\n      console.log(\"Bokeh: BokehJS failed to load within specified timeout.\");\n      root._bokeh_failed_load = true;\n    } else if (force !== true) {\n      const cell = $(document.getElementById(\"1002\")).parents('.cell').data().cell;\n      cell.output_area.append_execute_result(NB_LOAD_WARNING)\n    }\n\n  }\n\n  if (root._bokeh_is_loading === 0) {\n    console.debug(\"Bokeh: BokehJS loaded, going straight to plotting\");\n    run_inline_js();\n  } else {\n    load_libs(css_urls, js_urls, function() {\n      console.debug(\"Bokeh: BokehJS plotting callback run at\", now());\n      run_inline_js();\n    });\n  }\n}(window));"
     },
     "metadata": {},
     "output_type": "display_data"
    }
   ],
   "source": [
    "\n",
    "%matplotlib widget\n",
    "import matplotlib.pyplot as plt\n",
    "from polygonal_roadmaps import pathfinding\n",
    "import networkx as nx\n",
    "import numpy as np\n",
    "from bokeh.io import show, output_notebook\n",
    "from bokeh.plotting import figure\n",
    "from bokeh.models import Range1d, Plot\n",
    "from bokeh.plotting import from_networkx\n",
    "from bokeh.models.graphs import NodesAndLinkedEdges\n",
    "from bokeh.models import Circle, HoverTool, MultiLine, WheelZoomTool, PanTool\n",
    "from bokeh.transform import linear_cmap, factor_cmap\n",
    "\n",
    "\n",
    "output_notebook()\n",
    "\n"
   ]
  },
  {
   "cell_type": "code",
   "execution_count": 2,
   "id": "7af98b2e-c569-4b6c-8dfb-8bc53a70a2ef",
   "metadata": {},
   "outputs": [],
   "source": [
    "G = pathfinding.gen_example_graph(5,3)\n",
    "pos = nx.get_node_attributes(G, 'pos')"
   ]
  },
  {
   "cell_type": "code",
   "execution_count": 3,
   "id": "a3ab5964-935a-4a8b-a03a-64526e61fe22",
   "metadata": {},
   "outputs": [
    {
     "data": {
      "text/plain": [
       "['a', 'b', 'c']"
      ]
     },
     "execution_count": 3,
     "metadata": {},
     "output_type": "execute_result"
    }
   ],
   "source": [
    "pathfinding.spatial_astar(G, 'a', 'c')"
   ]
  },
  {
   "cell_type": "code",
   "execution_count": 4,
   "id": "823d8143-1d9a-4d0d-8294-670e4b92bf6a",
   "metadata": {},
   "outputs": [
    {
     "data": {
      "text/html": [
       "\n",
       "\n",
       "\n",
       "\n",
       "\n",
       "\n",
       "  <div class=\"bk-root\" id=\"97065590-f936-4bb4-85eb-25944493765a\" data-root-id=\"1003\"></div>\n"
      ]
     },
     "metadata": {},
     "output_type": "display_data"
    },
    {
     "data": {
      "application/javascript": [
       "(function(root) {\n",
       "  function embed_document(root) {\n",
       "    \n",
       "  const docs_json = {\"bfb8f881-afe3-44d6-9569-08af95bbbd0f\":{\"defs\":[],\"roots\":{\"references\":[{\"attributes\":{\"below\":[{\"id\":\"1012\"}],\"center\":[{\"id\":\"1015\"},{\"id\":\"1019\"}],\"left\":[{\"id\":\"1016\"}],\"renderers\":[{\"id\":\"1034\"}],\"title\":{\"id\":\"1056\"},\"toolbar\":{\"id\":\"1027\"},\"x_range\":{\"id\":\"1004\"},\"x_scale\":{\"id\":\"1008\"},\"y_range\":{\"id\":\"1006\"},\"y_scale\":{\"id\":\"1010\"}},\"id\":\"1003\",\"subtype\":\"Figure\",\"type\":\"Plot\"},{\"attributes\":{\"bottom_units\":\"screen\",\"coordinates\":null,\"fill_alpha\":0.5,\"fill_color\":\"lightgrey\",\"group\":null,\"left_units\":\"screen\",\"level\":\"overlay\",\"line_alpha\":1.0,\"line_color\":\"black\",\"line_dash\":[4,4],\"line_width\":2,\"right_units\":\"screen\",\"syncable\":false,\"top_units\":\"screen\"},\"id\":\"1026\",\"type\":\"BoxAnnotation\"},{\"attributes\":{},\"id\":\"1074\",\"type\":\"UnionRenderers\"},{\"attributes\":{},\"id\":\"1024\",\"type\":\"ResetTool\"},{\"attributes\":{},\"id\":\"1075\",\"type\":\"Selection\"},{\"attributes\":{},\"id\":\"1023\",\"type\":\"SaveTool\"},{\"attributes\":{\"coordinates\":null,\"data_source\":{\"id\":\"1036\"},\"glyph\":{\"id\":\"1035\"},\"group\":null,\"hover_glyph\":null,\"view\":{\"id\":\"1038\"}},\"id\":\"1037\",\"type\":\"GlyphRenderer\"},{\"attributes\":{\"overlay\":{\"id\":\"1026\"}},\"id\":\"1022\",\"type\":\"BoxZoomTool\"},{\"attributes\":{},\"id\":\"1020\",\"type\":\"PanTool\"},{\"attributes\":{\"data\":{\"index\":[\"a\",\"b\",\"c\",\"d\",\"e\",\"f\",\"g\",\"h\"],\"pos\":[[0,0],[1,0],[2,0],[3,0],[4,0],[1.0,1],[2.0,1],[3.0,1]]},\"selected\":{\"id\":\"1075\"},\"selection_policy\":{\"id\":\"1074\"}},\"id\":\"1036\",\"type\":\"ColumnDataSource\"},{\"attributes\":{},\"id\":\"1021\",\"type\":\"WheelZoomTool\"},{\"attributes\":{\"source\":{\"id\":\"1036\"}},\"id\":\"1038\",\"type\":\"CDSView\"},{\"attributes\":{},\"id\":\"1039\",\"type\":\"MultiLine\"},{\"attributes\":{},\"id\":\"1025\",\"type\":\"HelpTool\"},{\"attributes\":{},\"id\":\"1068\",\"type\":\"BasicTickFormatter\"},{\"attributes\":{},\"id\":\"1077\",\"type\":\"Selection\"},{\"attributes\":{},\"id\":\"1004\",\"type\":\"DataRange1d\"},{\"attributes\":{\"coordinates\":null,\"group\":null},\"id\":\"1056\",\"type\":\"Title\"},{\"attributes\":{\"graph_layout\":{\"a\":[0,0],\"b\":[1,0],\"c\":[2,0],\"d\":[3,0],\"e\":[4,0],\"f\":[1.0,1],\"g\":[2.0,1],\"h\":[3.0,1]}},\"id\":\"1047\",\"type\":\"StaticLayoutProvider\"},{\"attributes\":{},\"id\":\"1069\",\"type\":\"AllLabels\"},{\"attributes\":{\"radius\":{\"value\":0.1}},\"id\":\"1035\",\"type\":\"Circle\"},{\"attributes\":{},\"id\":\"1076\",\"type\":\"UnionRenderers\"},{\"attributes\":{\"coordinates\":null,\"formatter\":{\"id\":\"1071\"},\"group\":null,\"major_label_policy\":{\"id\":\"1072\"},\"ticker\":{\"id\":\"1013\"}},\"id\":\"1012\",\"type\":\"LinearAxis\"},{\"attributes\":{\"coordinates\":null,\"formatter\":{\"id\":\"1068\"},\"group\":null,\"major_label_policy\":{\"id\":\"1069\"},\"ticker\":{\"id\":\"1017\"}},\"id\":\"1016\",\"type\":\"LinearAxis\"},{\"attributes\":{},\"id\":\"1071\",\"type\":\"BasicTickFormatter\"},{\"attributes\":{\"coordinates\":null,\"edge_renderer\":{\"id\":\"1041\"},\"group\":null,\"inspection_policy\":{\"id\":\"1052\"},\"layout_provider\":{\"id\":\"1047\"},\"node_renderer\":{\"id\":\"1037\"},\"selection_policy\":{\"id\":\"1066\"}},\"id\":\"1034\",\"type\":\"GraphRenderer\"},{\"attributes\":{},\"id\":\"1013\",\"type\":\"BasicTicker\"},{\"attributes\":{\"axis\":{\"id\":\"1012\"},\"coordinates\":null,\"group\":null,\"ticker\":null},\"id\":\"1015\",\"type\":\"Grid\"},{\"attributes\":{},\"id\":\"1072\",\"type\":\"AllLabels\"},{\"attributes\":{\"axis\":{\"id\":\"1016\"},\"coordinates\":null,\"dimension\":1,\"group\":null,\"ticker\":null},\"id\":\"1019\",\"type\":\"Grid\"},{\"attributes\":{},\"id\":\"1066\",\"type\":\"NodesOnly\"},{\"attributes\":{},\"id\":\"1010\",\"type\":\"LinearScale\"},{\"attributes\":{},\"id\":\"1017\",\"type\":\"BasicTicker\"},{\"attributes\":{},\"id\":\"1006\",\"type\":\"DataRange1d\"},{\"attributes\":{\"callback\":null,\"tooltips\":\"@index\"},\"id\":\"1054\",\"type\":\"HoverTool\"},{\"attributes\":{\"source\":{\"id\":\"1040\"}},\"id\":\"1042\",\"type\":\"CDSView\"},{\"attributes\":{},\"id\":\"1008\",\"type\":\"LinearScale\"},{\"attributes\":{\"data\":{\"dist\":[1.0,1.0,1.0,1.0,1.0,1.0,1.0,1.0],\"end\":[\"b\",\"c\",\"f\",\"d\",\"e\",\"h\",\"g\",\"h\"],\"start\":[\"a\",\"b\",\"b\",\"c\",\"d\",\"d\",\"f\",\"g\"]},\"selected\":{\"id\":\"1077\"},\"selection_policy\":{\"id\":\"1076\"}},\"id\":\"1040\",\"type\":\"ColumnDataSource\"},{\"attributes\":{},\"id\":\"1052\",\"type\":\"NodesAndLinkedEdges\"},{\"attributes\":{\"coordinates\":null,\"data_source\":{\"id\":\"1040\"},\"glyph\":{\"id\":\"1039\"},\"group\":null,\"hover_glyph\":null,\"view\":{\"id\":\"1042\"}},\"id\":\"1041\",\"type\":\"GlyphRenderer\"},{\"attributes\":{\"tools\":[{\"id\":\"1020\"},{\"id\":\"1021\"},{\"id\":\"1022\"},{\"id\":\"1023\"},{\"id\":\"1024\"},{\"id\":\"1025\"},{\"id\":\"1054\"}]},\"id\":\"1027\",\"type\":\"Toolbar\"}],\"root_ids\":[\"1003\"]},\"title\":\"Bokeh Application\",\"version\":\"2.4.1\"}};\n",
       "  const render_items = [{\"docid\":\"bfb8f881-afe3-44d6-9569-08af95bbbd0f\",\"root_ids\":[\"1003\"],\"roots\":{\"1003\":\"97065590-f936-4bb4-85eb-25944493765a\"}}];\n",
       "  root.Bokeh.embed.embed_items_notebook(docs_json, render_items);\n",
       "\n",
       "  }\n",
       "  if (root.Bokeh !== undefined) {\n",
       "    embed_document(root);\n",
       "  } else {\n",
       "    let attempts = 0;\n",
       "    const timer = setInterval(function(root) {\n",
       "      if (root.Bokeh !== undefined) {\n",
       "        clearInterval(timer);\n",
       "        embed_document(root);\n",
       "      } else {\n",
       "        attempts++;\n",
       "        if (attempts > 100) {\n",
       "          clearInterval(timer);\n",
       "          console.log(\"Bokeh: ERROR: Unable to run BokehJS code because BokehJS library is missing\");\n",
       "        }\n",
       "      }\n",
       "    }, 10, root)\n",
       "  }\n",
       "})(window);"
      ],
      "application/vnd.bokehjs_exec.v0+json": ""
     },
     "metadata": {
      "application/vnd.bokehjs_exec.v0+json": {
       "id": "1003"
      }
     },
     "output_type": "display_data"
    }
   ],
   "source": [
    "# We could use figure here but don't want all the axes and titles\n",
    "plot = figure()\n",
    "#plot.add_tools(WheelZoomTool(), PanTool())\n",
    "\n",
    "# Create a Bokeh graph from the NetworkX input using nx.spring_layout\n",
    "\n",
    "graph = from_networkx(G, pos)\n",
    "plot.renderers.append(graph)\n",
    "\n",
    "# Set some of the default node glyph (Circle) properties\n",
    "graph.node_renderer.glyph.update(radius=.1)\n",
    "\n",
    "# When we hover over nodes, highlight adjecent edges too\n",
    "graph.inspection_policy = NodesAndLinkedEdges()\n",
    "\n",
    "plot.add_tools(HoverTool(tooltips=\"@index\"))\n",
    "\n",
    "show(plot)"
   ]
  },
  {
   "cell_type": "raw",
   "id": "20ccf70a-4632-4c78-81f4-4a89ae09b134",
   "metadata": {},
   "source": [
    "G.nodes()['a'].items()"
   ]
  },
  {
   "cell_type": "code",
   "execution_count": 5,
   "id": "1effe0e2-c7c8-4014-86ee-95e854eebe84",
   "metadata": {},
   "outputs": [
    {
     "data": {
      "text/plain": [
       "['a', 'a', 'b', 'c', 'd', 'e']"
      ]
     },
     "execution_count": 5,
     "metadata": {},
     "output_type": "execute_result"
    }
   ],
   "source": [
    "cost = pathfinding.compute_cost(G, 'e')\n",
    "path, temporal_graph = pathfinding.spacetime_astar(G, 'a', 'e', cost, node_constraints=[('b', 1)], limit=10, return_graph=True)\n",
    "path"
   ]
  },
  {
   "cell_type": "code",
   "execution_count": 8,
   "id": "ee8c204b-1cff-4028-89bf-ecdf8fe885b1",
   "metadata": {},
   "outputs": [],
   "source": [
    "t = nx.DiGraph()\n",
    "t.add_nodes_from(pathfinding.temporal_node_list(G, 3, []))"
   ]
  },
  {
   "cell_type": "code",
   "execution_count": 9,
   "id": "c402c97b-f635-4dca-856b-6657a292040d",
   "metadata": {},
   "outputs": [
    {
     "data": {
      "text/plain": [
       "NodeView(('nat0', 'nbt0', 'nct0', 'ndt0', 'net0', 'nft0', 'ngt0', 'nht0', 'nat1', 'nbt1', 'nct1', 'ndt1', 'net1', 'nft1', 'ngt1', 'nht1', 'nat2', 'nbt2', 'nct2', 'ndt2', 'net2', 'nft2', 'ngt2', 'nht2'))"
      ]
     },
     "execution_count": 9,
     "metadata": {},
     "output_type": "execute_result"
    }
   ],
   "source": [
    "t.nodes()"
   ]
  },
  {
   "cell_type": "code",
   "execution_count": 15,
   "id": "f931eafe-0d03-43ac-a2c5-816d3d03b720",
   "metadata": {},
   "outputs": [
    {
     "name": "stdout",
     "output_type": "stream",
     "text": [
      "Found new best solution at iteration 5.\n"
     ]
    },
    {
     "data": {
      "text/plain": [
       "[['a', 'b', 'c', 'd', 'e'], ['e', 'd', 'h', 'g', 'f', 'b', 'a']]"
      ]
     },
     "execution_count": 15,
     "metadata": {},
     "output_type": "execute_result"
    }
   ],
   "source": [
    "cbs = pathfinding.CBS(G, [('a', 'e'), ('e', 'a')], limit=8, max_iter=10_000)\n",
    "best = cbs.run()\n",
    "best"
   ]
  },
  {
   "cell_type": "code",
   "execution_count": 21,
   "id": "5cc9bde4-015b-4708-a58b-5e5fea6e450a",
   "metadata": {},
   "outputs": [
    {
     "data": {
      "text/html": [
       "\n",
       "\n",
       "\n",
       "\n",
       "\n",
       "\n",
       "  <div class=\"bk-root\" id=\"f1a66178-35c8-4cb7-8e5d-c39f32f2254f\" data-root-id=\"2208\"></div>\n"
      ]
     },
     "metadata": {},
     "output_type": "display_data"
    },
    {
     "data": {
      "application/javascript": [
       "(function(root) {\n",
       "  function embed_document(root) {\n",
       "    \n",
       "  const docs_json = {\"1d9a40ac-420c-497f-a4d0-c2fa0391ae5e\":{\"defs\":[],\"roots\":{\"references\":[{\"attributes\":{\"below\":[{\"id\":\"2217\"}],\"center\":[{\"id\":\"2220\"},{\"id\":\"2224\"}],\"left\":[{\"id\":\"2221\"}],\"renderers\":[{\"id\":\"2239\"}],\"title\":{\"id\":\"2372\"},\"toolbar\":{\"id\":\"2232\"},\"x_range\":{\"id\":\"2209\"},\"x_scale\":{\"id\":\"2213\"},\"y_range\":{\"id\":\"2211\"},\"y_scale\":{\"id\":\"2215\"}},\"id\":\"2208\",\"subtype\":\"Figure\",\"type\":\"Plot\"},{\"attributes\":{},\"id\":\"2213\",\"type\":\"LinearScale\"},{\"attributes\":{\"axis\":{\"id\":\"2221\"},\"coordinates\":null,\"dimension\":1,\"group\":null,\"ticker\":null},\"id\":\"2224\",\"type\":\"Grid\"},{\"attributes\":{\"source\":{\"id\":\"2241\"}},\"id\":\"2243\",\"type\":\"CDSView\"},{\"attributes\":{},\"id\":\"2258\",\"type\":\"NodesAndLinkedEdges\"},{\"attributes\":{},\"id\":\"2390\",\"type\":\"UnionRenderers\"},{\"attributes\":{},\"id\":\"2222\",\"type\":\"BasicTicker\"},{\"attributes\":{},\"id\":\"2391\",\"type\":\"Selection\"},{\"attributes\":{\"line_dash\":{\"value\":[2,2]}},\"id\":\"2244\",\"type\":\"MultiLine\"},{\"attributes\":{},\"id\":\"2226\",\"type\":\"WheelZoomTool\"},{\"attributes\":{},\"id\":\"2230\",\"type\":\"HelpTool\"},{\"attributes\":{},\"id\":\"2393\",\"type\":\"Selection\"},{\"attributes\":{},\"id\":\"2211\",\"type\":\"DataRange1d\"},{\"attributes\":{\"source\":{\"id\":\"2245\"}},\"id\":\"2247\",\"type\":\"CDSView\"},{\"attributes\":{\"coordinates\":null,\"edge_renderer\":{\"id\":\"2246\"},\"group\":null,\"inspection_policy\":{\"id\":\"2258\"},\"layout_provider\":{\"id\":\"2248\"},\"node_renderer\":{\"id\":\"2242\"},\"selection_policy\":{\"id\":\"2382\"}},\"id\":\"2239\",\"type\":\"GraphRenderer\"},{\"attributes\":{\"coordinates\":null,\"formatter\":{\"id\":\"2387\"},\"group\":null,\"major_label_policy\":{\"id\":\"2388\"},\"ticker\":{\"id\":\"2218\"}},\"id\":\"2217\",\"type\":\"LinearAxis\"},{\"attributes\":{\"coordinates\":null,\"data_source\":{\"id\":\"2245\"},\"glyph\":{\"id\":\"2244\"},\"group\":null,\"hover_glyph\":null,\"view\":{\"id\":\"2247\"}},\"id\":\"2246\",\"type\":\"GlyphRenderer\"},{\"attributes\":{},\"id\":\"2382\",\"type\":\"NodesOnly\"},{\"attributes\":{\"axis\":{\"id\":\"2217\"},\"coordinates\":null,\"group\":null,\"ticker\":null},\"id\":\"2220\",\"type\":\"Grid\"},{\"attributes\":{\"coordinates\":null,\"group\":null},\"id\":\"2372\",\"type\":\"Title\"},{\"attributes\":{},\"id\":\"2225\",\"type\":\"PanTool\"},{\"attributes\":{},\"id\":\"2229\",\"type\":\"ResetTool\"},{\"attributes\":{},\"id\":\"2388\",\"type\":\"AllLabels\"},{\"attributes\":{\"bottom_units\":\"screen\",\"coordinates\":null,\"fill_alpha\":0.5,\"fill_color\":\"lightgrey\",\"group\":null,\"left_units\":\"screen\",\"level\":\"overlay\",\"line_alpha\":1.0,\"line_color\":\"black\",\"line_dash\":[4,4],\"line_width\":2,\"right_units\":\"screen\",\"syncable\":false,\"top_units\":\"screen\"},\"id\":\"2231\",\"type\":\"BoxAnnotation\"},{\"attributes\":{\"graph_layout\":{\"0\":[-0.5993650793650793,0.0],\"1\":[-0.466031746031746,0.06666666666666667],\"10\":[-0.19936507936507936,0.4666666666666667],\"100\":[0.20063492063492064,-1.1333333333333333],\"101\":[0.20063492063492064,-1.2666666666666666],\"102\":[0.06730158730158729,-1.6666666666666667],\"103\":[0.06730158730158729,-1.8],\"104\":[-0.19936507936507936,-1.0],\"11\":[-0.06603174603174604,1.2],\"12\":[0.06730158730158729,1.8],\"13\":[0.06730158730158729,1.6666666666666667],\"14\":[0.06730158730158729,1.5333333333333332],\"15\":[-0.06603174603174604,1.0666666666666667],\"16\":[-0.06603174603174604,0.9333333333333333],\"17\":[-0.06603174603174604,0.8],\"18\":[-0.3326984126984127,0.13333333333333333],\"19\":[-0.19936507936507936,0.3333333333333333],\"2\":[-0.3326984126984127,0.4],\"20\":[-0.19936507936507936,0.2],\"21\":[-0.06603174603174604,0.6666666666666666],\"22\":[0.06730158730158729,1.4],\"23\":[0.20063492063492064,1.2666666666666666],\"24\":[0.33396825396825397,0.4666666666666667],\"25\":[0.33396825396825397,0.3333333333333333],\"26\":[0.20063492063492064,1.1333333333333333],\"27\":[0.20063492063492064,1.0],\"28\":[0.06730158730158729,1.2666666666666666],\"29\":[0.06730158730158729,1.1333333333333333],\"3\":[-0.19936507936507936,1.0],\"30\":[0.20063492063492064,0.8666666666666667],\"31\":[0.20063492063492064,0.7333333333333333],\"32\":[0.06730158730158729,1.0],\"33\":[-0.06603174603174604,0.5333333333333333],\"34\":[0.06730158730158729,0.8666666666666667],\"35\":[0.20063492063492064,0.6],\"36\":[0.33396825396825397,0.2],\"37\":[0.33396825396825397,0.06666666666666667],\"38\":[0.20063492063492064,0.4666666666666667],\"39\":[0.20063492063492064,0.3333333333333333],\"4\":[-0.19936507936507936,0.8666666666666667],\"40\":[0.06730158730158729,0.7333333333333333],\"41\":[0.06730158730158729,0.6],\"42\":[-0.3326984126984127,0.0],\"43\":[-0.19936507936507936,0.06666666666666667],\"44\":[-0.06603174603174604,0.4],\"45\":[0.06730158730158729,0.4666666666666667],\"46\":[0.20063492063492064,0.2],\"47\":[0.20063492063492064,0.06666666666666667],\"48\":[0.06730158730158729,0.3333333333333333],\"49\":[0.06730158730158729,0.2],\"5\":[-0.3326984126984127,0.26666666666666666],\"50\":[-0.06603174603174604,0.26666666666666666],\"51\":[-0.06603174603174604,0.13333333333333333],\"52\":[0.06730158730158729,0.06666666666666667],\"53\":[0.06730158730158729,-0.06666666666666667],\"54\":[-0.06603174603174604,0.0],\"55\":[-0.19936507936507936,-0.06666666666666667],\"56\":[-0.06603174603174604,-0.13333333333333333],\"57\":[0.06730158730158729,-0.2],\"58\":[0.20063492063492064,-0.06666666666666667],\"59\":[0.20063492063492064,-0.2],\"6\":[-0.19936507936507936,0.7333333333333333],\"60\":[0.06730158730158729,-0.3333333333333333],\"61\":[0.06730158730158729,-0.4666666666666667],\"62\":[-0.06603174603174604,-0.26666666666666666],\"63\":[-0.06603174603174604,-0.4],\"64\":[-0.466031746031746,-0.06666666666666667],\"65\":[-0.3326984126984127,-0.13333333333333333],\"66\":[-0.19936507936507936,-0.2],\"67\":[-0.19936507936507936,-0.3333333333333333],\"68\":[-0.06603174603174604,-0.5333333333333333],\"69\":[-0.06603174603174604,-0.6666666666666666],\"7\":[-0.06603174603174604,1.4666666666666666],\"70\":[-0.19936507936507936,-0.4666666666666667],\"71\":[-0.06603174603174604,-0.8],\"72\":[-0.06603174603174604,-0.9333333333333333],\"73\":[0.06730158730158729,-0.6],\"74\":[0.06730158730158729,-0.7333333333333333],\"75\":[0.06730158730158729,-0.8666666666666667],\"76\":[-0.06603174603174604,-1.0666666666666667],\"77\":[-0.06603174603174604,-1.2],\"78\":[-0.3326984126984127,-0.26666666666666666],\"79\":[-0.19936507936507936,-0.6],\"8\":[-0.06603174603174604,1.3333333333333333],\"80\":[-0.19936507936507936,-0.7333333333333333],\"81\":[-0.3326984126984127,-0.4],\"82\":[-0.19936507936507936,-0.8666666666666667],\"83\":[-0.06603174603174604,-1.3333333333333333],\"84\":[0.06730158730158729,-1.0],\"85\":[0.20063492063492064,-0.3333333333333333],\"86\":[0.33396825396825397,-0.06666666666666667],\"87\":[0.33396825396825397,-0.2],\"88\":[0.20063492063492064,-0.4666666666666667],\"89\":[0.20063492063492064,-0.6],\"9\":[-0.19936507936507936,0.6],\"90\":[0.06730158730158729,-1.1333333333333333],\"91\":[0.06730158730158729,-1.2666666666666666],\"92\":[0.20063492063492064,-0.7333333333333333],\"93\":[0.20063492063492064,-0.8666666666666667],\"94\":[0.06730158730158729,-1.4],\"95\":[-0.06603174603174604,-1.4666666666666666],\"96\":[0.06730158730158729,-1.5333333333333332],\"97\":[0.20063492063492064,-1.0],\"98\":[0.33396825396825397,-0.3333333333333333],\"99\":[0.33396825396825397,-0.4666666666666667]}},\"id\":\"2248\",\"type\":\"StaticLayoutProvider\"},{\"attributes\":{},\"id\":\"2392\",\"type\":\"UnionRenderers\"},{\"attributes\":{},\"id\":\"2385\",\"type\":\"AllLabels\"},{\"attributes\":{},\"id\":\"2218\",\"type\":\"BasicTicker\"},{\"attributes\":{\"data\":{\"conflicts\":[\"{NodeConstraint(agent=1, time=2, node='c'), NodeConstraint(agent=0, time=2, node='c')}\",\"{NodeConstraint(agent=1, time=2, node='d'), NodeConstraint(agent=1, time=3, node='c'), NodeConstraint(agent=0, time=3, node='d'), NodeConstraint(agent=0, time=2, node='c')}\",\"{NodeConstraint(agent=1, time=3, node='d'), NodeConstraint(agent=0, time=3, node='d')}\",\"set()\",\"None\",\"{NodeConstraint(agent=1, time=2, node='d'), NodeConstraint(agent=1, time=3, node='d'), NodeConstraint(agent=0, time=3, node='d')}\",\"{NodeConstraint(agent=1, time=3, node='d'), NodeConstraint(agent=0, time=3, node='d')}\",\"set()\",\"None\",\"set()\",\"{NodeConstraint(agent=0, time=4, node='d'), NodeConstraint(agent=1, time=3, node='d'), NodeConstraint(agent=0, time=3, node='c'), NodeConstraint(agent=1, time=4, node='c')}\",\"{NodeConstraint(agent=0, time=3, node='c'), NodeConstraint(agent=1, time=4, node='c'), NodeConstraint(agent=0, time=4, node='c')}\",\"None\",\"None\",\"None\",\"None\",\"None\",\"None\",\"{NodeConstraint(agent=1, time=3, node='c'), NodeConstraint(agent=0, time=3, node='c'), NodeConstraint(agent=0, time=2, node='c')}\",\"None\",\"{NodeConstraint(agent=1, time=3, node='c'), NodeConstraint(agent=0, time=3, node='c')}\",\"{NodeConstraint(agent=0, time=4, node='d'), NodeConstraint(agent=1, time=3, node='d'), NodeConstraint(agent=0, time=3, node='c'), NodeConstraint(agent=1, time=4, node='c')}\",\"{NodeConstraint(agent=0, time=3, node='c'), NodeConstraint(agent=1, time=4, node='c'), NodeConstraint(agent=0, time=4, node='c')}\",\"{NodeConstraint(agent=1, time=4, node='c'), NodeConstraint(agent=0, time=4, node='c')}\",\"None\",\"None\",\"None\",\"None\",\"None\",\"{NodeConstraint(agent=1, time=4, node='c'), NodeConstraint(agent=0, time=4, node='c')}\",\"None\",\"None\",\"None\",\"{NodeConstraint(agent=1, time=3, node='c'), NodeConstraint(agent=1, time=4, node='b'), NodeConstraint(agent=0, time=3, node='b'), NodeConstraint(agent=0, time=4, node='c')}\",\"{NodeConstraint(agent=1, time=3, node='c'), NodeConstraint(agent=1, time=4, node='c'), NodeConstraint(agent=0, time=4, node='c')}\",\"{NodeConstraint(agent=1, time=4, node='c'), NodeConstraint(agent=0, time=4, node='c')}\",\"None\",\"None\",\"None\",\"None\",\"None\",\"None\",\"{NodeConstraint(agent=1, time=3, node='c'), NodeConstraint(agent=0, time=3, node='c')}\",\"{NodeConstraint(agent=0, time=4, node='d'), NodeConstraint(agent=1, time=3, node='d'), NodeConstraint(agent=0, time=3, node='c'), NodeConstraint(agent=1, time=4, node='c')}\",\"{NodeConstraint(agent=0, time=3, node='c'), NodeConstraint(agent=1, time=4, node='c'), NodeConstraint(agent=0, time=4, node='c')}\",\"{NodeConstraint(agent=1, time=4, node='c'), NodeConstraint(agent=0, time=4, node='c')}\",\"None\",\"None\",\"None\",\"None\",\"None\",\"{NodeConstraint(agent=1, time=4, node='c'), NodeConstraint(agent=0, time=4, node='c')}\",\"None\",\"None\",\"None\",\"{NodeConstraint(agent=1, time=3, node='c'), NodeConstraint(agent=1, time=4, node='b'), NodeConstraint(agent=0, time=3, node='b'), NodeConstraint(agent=0, time=4, node='c')}\",\"{NodeConstraint(agent=1, time=3, node='c'), NodeConstraint(agent=1, time=4, node='c'), NodeConstraint(agent=0, time=4, node='c')}\",\"{NodeConstraint(agent=1, time=4, node='c'), NodeConstraint(agent=0, time=4, node='c')}\",\"None\",\"None\",\"None\",\"None\",\"None\",\"None\",\"{NodeConstraint(agent=1, time=2, node='c'), NodeConstraint(agent=0, time=3, node='c'), NodeConstraint(agent=0, time=2, node='b'), NodeConstraint(agent=1, time=3, node='b')}\",\"{NodeConstraint(agent=0, time=3, node='b'), NodeConstraint(agent=0, time=2, node='b'), NodeConstraint(agent=1, time=3, node='b')}\",\"set()\",\"{NodeConstraint(agent=0, time=3, node='b'), NodeConstraint(agent=1, time=3, node='b')}\",\"set()\",\"None\",\"{NodeConstraint(agent=1, time=3, node='c'), NodeConstraint(agent=1, time=4, node='b'), NodeConstraint(agent=0, time=3, node='b'), NodeConstraint(agent=0, time=4, node='c')}\",\"None\",\"{NodeConstraint(agent=1, time=3, node='c'), NodeConstraint(agent=1, time=4, node='c'), NodeConstraint(agent=0, time=4, node='c')}\",\"None\",\"None\",\"None\",\"None\",\"None\",\"{NodeConstraint(agent=0, time=3, node='b'), NodeConstraint(agent=1, time=3, node='b')}\",\"set()\",\"None\",\"{NodeConstraint(agent=1, time=2, node='c'), NodeConstraint(agent=1, time=3, node='c'), NodeConstraint(agent=0, time=3, node='c')}\",\"{NodeConstraint(agent=1, time=3, node='c'), NodeConstraint(agent=0, time=3, node='c')}\",\"{NodeConstraint(agent=0, time=4, node='d'), NodeConstraint(agent=1, time=3, node='d'), NodeConstraint(agent=0, time=3, node='c'), NodeConstraint(agent=1, time=4, node='c')}\",\"{NodeConstraint(agent=0, time=3, node='c'), NodeConstraint(agent=1, time=4, node='c'), NodeConstraint(agent=0, time=4, node='c')}\",\"{NodeConstraint(agent=1, time=4, node='c'), NodeConstraint(agent=0, time=4, node='c')}\",\"None\",\"None\",\"None\",\"None\",\"None\",\"{NodeConstraint(agent=1, time=4, node='c'), NodeConstraint(agent=0, time=4, node='c')}\",\"None\",\"None\",\"None\",\"{NodeConstraint(agent=1, time=3, node='c'), NodeConstraint(agent=1, time=4, node='b'), NodeConstraint(agent=0, time=3, node='b'), NodeConstraint(agent=0, time=4, node='c')}\",\"{NodeConstraint(agent=1, time=3, node='c'), NodeConstraint(agent=1, time=4, node='c'), NodeConstraint(agent=0, time=4, node='c')}\",\"{NodeConstraint(agent=1, time=4, node='c'), NodeConstraint(agent=0, time=4, node='c')}\",\"None\",\"None\",\"None\",\"None\",\"None\",\"None\",\"None\"],\"fitness\":[8.0,8.1,10.0,10.0,10.1,8.2,10.0,10.0,10.1,10.0,8.299999999999999,8.399999999999999,10.2,10.2,10.2,10.1,10.2,10.1,8.2,10.1,8.2,8.299999999999999,8.399999999999999,8.399999999999999,10.2,10.2,10.2,10.2,10.1,8.399999999999999,10.2,10.2,10.1,8.3,8.399999999999999,8.399999999999999,10.2,10.2,10.2,10.2,10.1,10.1,8.2,8.299999999999999,8.399999999999999,8.399999999999999,10.2,10.2,10.2,10.2,10.1,8.399999999999999,10.2,10.2,10.1,8.3,8.399999999999999,8.399999999999999,10.2,10.2,10.2,10.2,10.1,10.1,8.1,8.2,10.0,10.0,10.0,10.1,8.3,10.2,8.399999999999999,10.2,10.2,10.2,10.1,10.1,10.0,10.0,10.1,8.2,8.2,8.299999999999999,8.399999999999999,8.399999999999999,10.2,10.2,10.2,10.2,10.1,8.399999999999999,10.2,10.2,10.1,8.3,8.399999999999999,8.399999999999999,10.2,10.2,10.2,10.2,10.1,10.1,10.1],\"index\":[0,1,2,3,4,5,6,7,8,9,10,11,12,13,14,15,16,17,18,19,20,21,22,23,24,25,26,27,28,29,30,31,32,33,34,35,36,37,38,39,40,41,42,43,44,45,46,47,48,49,50,51,52,53,54,55,56,57,58,59,60,61,62,63,64,65,66,67,68,69,70,71,72,73,74,75,76,77,78,79,80,81,82,83,84,85,86,87,88,89,90,91,92,93,94,95,96,97,98,99,100,101,102,103,104],\"label\":[\"[constraints::]conflicts : 2\",\"[constraints::agent 1::{(t: 2, n: c)}]conflicts : 4\",\"[constraints::agent 1::{(t: 2, n: c),(t: 2, n: d)}]conflicts : 2\",\"[constraints::agent 1::{(t: 2, n: c),(t: 2, n: d),(t: 3, n: d)}]\",\"[constraints::agent 1::{(t: 2, n: c),(t: 2, n: d)}agent 0::{(t: 3, n: d)}]\",\"[constraints::agent 1::{(t: 2, n: c),(t: 3, n: c)}]conflicts : 3\",\"[constraints::agent 1::{(t: 2, n: c),(t: 2, n: d),(t: 3, n: c)}]conflicts : 2\",\"[constraints::agent 1::{(t: 2, n: c),(t: 2, n: d),(t: 3, n: c),(t: 3, n: d)}]\",\"[constraints::agent 1::{(t: 2, n: c),(t: 2, n: d),(t: 3, n: c)}agent 0::{(t: 3, n: d)}]\",\"[constraints::agent 1::{(t: 2, n: c),(t: 3, n: c),(t: 3, n: d)}]\",\"[constraints::agent 1::{(t: 2, n: c),(t: 3, n: c)}agent 0::{(t: 3, n: d)}]conflicts : 4\",\"[constraints::agent 0::{(t: 3, n: d),(t: 4, n: d)}agent 1::{(t: 2, n: c),(t: 3, n: c)}]conflicts : 3\",\"[constraints::agent 1::{(t: 2, n: c),(t: 3, n: c)}agent 0::{(t: 3, n: c),(t: 3, n: d),(t: 4, n: d)}]\",\"[constraints::agent 1::{(t: 2, n: c),(t: 3, n: c),(t: 4, n: c)}agent 0::{(t: 3, n: d),(t: 4, n: d)}]\",\"[constraints::agent 1::{(t: 2, n: c),(t: 3, n: c)}agent 0::{(t: 3, n: d),(t: 4, n: c),(t: 4, n: d)}]\",\"[constraints::agent 1::{(t: 2, n: c),(t: 3, n: c),(t: 3, n: d)}agent 0::{(t: 3, n: d)}]\",\"[constraints::agent 1::{(t: 2, n: c),(t: 3, n: c)}agent 0::{(t: 3, n: c),(t: 3, n: d)}]\",\"[constraints::agent 1::{(t: 2, n: c),(t: 3, n: c),(t: 4, n: c)}agent 0::{(t: 3, n: d)}]\",\"[constraints::agent 1::{(t: 2, n: c)}agent 0::{(t: 3, n: d)}]conflicts : 3\",\"[constraints::agent 1::{(t: 2, n: c)}agent 0::{(t: 3, n: c),(t: 3, n: d)}]\",\"[constraints::agent 1::{(t: 2, n: c)}agent 0::{(t: 2, n: c),(t: 3, n: d)}]conflicts : 2\",\"[constraints::agent 1::{(t: 2, n: c),(t: 3, n: c)}agent 0::{(t: 2, n: c),(t: 3, n: d)}]conflicts : 4\",\"[constraints::agent 1::{(t: 2, n: c),(t: 3, n: c)}agent 0::{(t: 2, n: c),(t: 3, n: d),(t: 4, n: d)}]conflicts : 3\",\"[constraints::agent 1::{(t: 2, n: c),(t: 3, n: c)}agent 0::{(t: 2, n: c),(t: 3, n: c),(t: 3, n: d),(t: 4, n: d)}]conflicts : 2\",\"[constraints::agent 1::{(t: 2, n: c),(t: 3, n: c),(t: 4, n: c)}agent 0::{(t: 2, n: c),(t: 3, n: c),(t: 3, n: d),(t: 4, n: d)}]\",\"[constraints::agent 1::{(t: 2, n: c),(t: 3, n: c)}agent 0::{(t: 2, n: c),(t: 3, n: c),(t: 3, n: d),(t: 4, n: c),(t: 4, n: d)}]\",\"[constraints::agent 1::{(t: 2, n: c),(t: 3, n: c),(t: 4, n: c)}agent 0::{(t: 2, n: c),(t: 3, n: d),(t: 4, n: d)}]\",\"[constraints::agent 1::{(t: 2, n: c),(t: 3, n: c)}agent 0::{(t: 2, n: c),(t: 3, n: d),(t: 4, n: c),(t: 4, n: d)}]\",\"[constraints::agent 1::{(t: 2, n: c),(t: 3, n: c),(t: 3, n: d)}agent 0::{(t: 2, n: c),(t: 3, n: d)}]\",\"[constraints::agent 1::{(t: 2, n: c),(t: 3, n: c)}agent 0::{(t: 2, n: c),(t: 3, n: c),(t: 3, n: d)}]conflicts : 2\",\"[constraints::agent 1::{(t: 2, n: c),(t: 3, n: c),(t: 4, n: c)}agent 0::{(t: 2, n: c),(t: 3, n: c),(t: 3, n: d)}]\",\"[constraints::agent 1::{(t: 2, n: c),(t: 3, n: c)}agent 0::{(t: 2, n: c),(t: 3, n: c),(t: 3, n: d),(t: 4, n: c)}]\",\"[constraints::agent 1::{(t: 2, n: c),(t: 3, n: c),(t: 4, n: c)}agent 0::{(t: 2, n: c),(t: 3, n: d)}]\",\"[constraints::agent 1::{(t: 2, n: c)}agent 0::{(t: 2, n: c),(t: 3, n: c),(t: 3, n: d)}]conflicts : 4\",\"[constraints::agent 1::{(t: 2, n: c),(t: 4, n: b)}agent 0::{(t: 2, n: c),(t: 3, n: c),(t: 3, n: d)}]conflicts : 3\",\"[constraints::agent 1::{(t: 2, n: c),(t: 3, n: c),(t: 4, n: b)}agent 0::{(t: 2, n: c),(t: 3, n: c),(t: 3, n: d)}]conflicts : 2\",\"[constraints::agent 1::{(t: 2, n: c),(t: 3, n: c),(t: 4, n: b),(t: 4, n: c)}agent 0::{(t: 2, n: c),(t: 3, n: c),(t: 3, n: d)}]\",\"[constraints::agent 1::{(t: 2, n: c),(t: 3, n: c),(t: 4, n: b)}agent 0::{(t: 2, n: c),(t: 3, n: c),(t: 3, n: d),(t: 4, n: c)}]\",\"[constraints::agent 1::{(t: 2, n: c),(t: 4, n: b),(t: 4, n: c)}agent 0::{(t: 2, n: c),(t: 3, n: c),(t: 3, n: d)}]\",\"[constraints::agent 1::{(t: 2, n: c),(t: 4, n: b)}agent 0::{(t: 2, n: c),(t: 3, n: c),(t: 3, n: d),(t: 4, n: c)}]\",\"[constraints::agent 1::{(t: 2, n: c)}agent 0::{(t: 2, n: c),(t: 3, n: b),(t: 3, n: c),(t: 3, n: d)}]\",\"[constraints::agent 1::{(t: 2, n: c)}agent 0::{(t: 2, n: c),(t: 3, n: c),(t: 3, n: d),(t: 4, n: c)}]\",\"[constraints::agent 1::{(t: 2, n: c)}agent 0::{(t: 2, n: c)}]conflicts : 2\",\"[constraints::agent 1::{(t: 2, n: c),(t: 3, n: c)}agent 0::{(t: 2, n: c)}]conflicts : 4\",\"[constraints::agent 0::{(t: 2, n: c),(t: 4, n: d)}agent 1::{(t: 2, n: c),(t: 3, n: c)}]conflicts : 3\",\"[constraints::agent 1::{(t: 2, n: c),(t: 3, n: c)}agent 0::{(t: 2, n: c),(t: 3, n: c),(t: 4, n: d)}]conflicts : 2\",\"[constraints::agent 1::{(t: 2, n: c),(t: 3, n: c),(t: 4, n: c)}agent 0::{(t: 2, n: c),(t: 3, n: c),(t: 4, n: d)}]\",\"[constraints::agent 1::{(t: 2, n: c),(t: 3, n: c)}agent 0::{(t: 2, n: c),(t: 3, n: c),(t: 4, n: c),(t: 4, n: d)}]\",\"[constraints::agent 1::{(t: 2, n: c),(t: 3, n: c),(t: 4, n: c)}agent 0::{(t: 2, n: c),(t: 4, n: d)}]\",\"[constraints::agent 1::{(t: 2, n: c),(t: 3, n: c)}agent 0::{(t: 2, n: c),(t: 4, n: c),(t: 4, n: d)}]\",\"[constraints::agent 1::{(t: 2, n: c),(t: 3, n: c),(t: 3, n: d)}agent 0::{(t: 2, n: c)}]\",\"[constraints::agent 1::{(t: 2, n: c),(t: 3, n: c)}agent 0::{(t: 2, n: c),(t: 3, n: c)}]conflicts : 2\",\"[constraints::agent 1::{(t: 2, n: c),(t: 3, n: c),(t: 4, n: c)}agent 0::{(t: 2, n: c),(t: 3, n: c)}]\",\"[constraints::agent 1::{(t: 2, n: c),(t: 3, n: c)}agent 0::{(t: 2, n: c),(t: 3, n: c),(t: 4, n: c)}]\",\"[constraints::agent 1::{(t: 2, n: c),(t: 3, n: c),(t: 4, n: c)}agent 0::{(t: 2, n: c)}]\",\"[constraints::agent 1::{(t: 2, n: c)}agent 0::{(t: 2, n: c),(t: 3, n: c)}]conflicts : 4\",\"[constraints::agent 1::{(t: 2, n: c),(t: 4, n: b)}agent 0::{(t: 2, n: c),(t: 3, n: c)}]conflicts : 3\",\"[constraints::agent 1::{(t: 2, n: c),(t: 3, n: c),(t: 4, n: b)}agent 0::{(t: 2, n: c),(t: 3, n: c)}]conflicts : 2\",\"[constraints::agent 1::{(t: 2, n: c),(t: 3, n: c),(t: 4, n: b),(t: 4, n: c)}agent 0::{(t: 2, n: c),(t: 3, n: c)}]\",\"[constraints::agent 1::{(t: 2, n: c),(t: 3, n: c),(t: 4, n: b)}agent 0::{(t: 2, n: c),(t: 3, n: c),(t: 4, n: c)}]\",\"[constraints::agent 1::{(t: 2, n: c),(t: 4, n: b),(t: 4, n: c)}agent 0::{(t: 2, n: c),(t: 3, n: c)}]\",\"[constraints::agent 1::{(t: 2, n: c),(t: 4, n: b)}agent 0::{(t: 2, n: c),(t: 3, n: c),(t: 4, n: c)}]\",\"[constraints::agent 1::{(t: 2, n: c)}agent 0::{(t: 2, n: c),(t: 3, n: b),(t: 3, n: c)}]\",\"[constraints::agent 1::{(t: 2, n: c)}agent 0::{(t: 2, n: c),(t: 3, n: c),(t: 4, n: c)}]\",\"[constraints::agent 0::{(t: 2, n: c)}]conflicts : 4\",\"[constraints::agent 0::{(t: 2, n: c),(t: 3, n: c)}]conflicts : 3\",\"[constraints::agent 0::{(t: 2, n: c),(t: 3, n: b),(t: 3, n: c)}]\",\"[constraints::agent 0::{(t: 2, n: b),(t: 2, n: c),(t: 3, n: c)}]conflicts : 2\",\"[constraints::agent 0::{(t: 2, n: b),(t: 2, n: c),(t: 3, n: b),(t: 3, n: c)}]\",\"[constraints::agent 0::{(t: 2, n: b),(t: 2, n: c),(t: 3, n: c)}agent 1::{(t: 3, n: b)}]\",\"[constraints::agent 0::{(t: 2, n: c),(t: 3, n: c)}agent 1::{(t: 3, n: b)}]conflicts : 4\",\"[constraints::agent 1::{(t: 3, n: b),(t: 3, n: c)}agent 0::{(t: 2, n: c),(t: 3, n: c)}]\",\"[constraints::agent 0::{(t: 2, n: c),(t: 3, n: c)}agent 1::{(t: 3, n: b),(t: 4, n: b)}]conflicts : 3\",\"[constraints::agent 1::{(t: 3, n: b),(t: 3, n: c),(t: 4, n: b)}agent 0::{(t: 2, n: c),(t: 3, n: c)}]\",\"[constraints::agent 0::{(t: 2, n: c),(t: 3, n: c)}agent 1::{(t: 3, n: b),(t: 4, n: b),(t: 4, n: c)}]\",\"[constraints::agent 0::{(t: 2, n: c),(t: 3, n: c),(t: 4, n: c)}agent 1::{(t: 3, n: b),(t: 4, n: b)}]\",\"[constraints::agent 1::{(t: 3, n: b)}agent 0::{(t: 2, n: c),(t: 3, n: b),(t: 3, n: c)}]\",\"[constraints::agent 0::{(t: 2, n: c),(t: 3, n: c),(t: 4, n: c)}agent 1::{(t: 3, n: b)}]\",\"[constraints::agent 0::{(t: 2, n: b),(t: 2, n: c)}]conflicts : 2\",\"[constraints::agent 0::{(t: 2, n: b),(t: 2, n: c),(t: 3, n: b)}]\",\"[constraints::agent 0::{(t: 2, n: b),(t: 2, n: c)}agent 1::{(t: 3, n: b)}]\",\"[constraints::agent 0::{(t: 2, n: c)}agent 1::{(t: 3, n: b)}]conflicts : 3\",\"[constraints::agent 1::{(t: 2, n: c),(t: 3, n: b)}agent 0::{(t: 2, n: c)}]conflicts : 2\",\"[constraints::agent 1::{(t: 2, n: c),(t: 3, n: b),(t: 3, n: c)}agent 0::{(t: 2, n: c)}]conflicts : 4\",\"[constraints::agent 1::{(t: 2, n: c),(t: 3, n: b),(t: 3, n: c)}agent 0::{(t: 2, n: c),(t: 4, n: d)}]conflicts : 3\",\"[constraints::agent 1::{(t: 2, n: c),(t: 3, n: b),(t: 3, n: c)}agent 0::{(t: 2, n: c),(t: 3, n: c),(t: 4, n: d)}]conflicts : 2\",\"[constraints::agent 1::{(t: 2, n: c),(t: 3, n: b),(t: 3, n: c),(t: 4, n: c)}agent 0::{(t: 2, n: c),(t: 3, n: c),(t: 4, n: d)}]\",\"[constraints::agent 1::{(t: 2, n: c),(t: 3, n: b),(t: 3, n: c)}agent 0::{(t: 2, n: c),(t: 3, n: c),(t: 4, n: c),(t: 4, n: d)}]\",\"[constraints::agent 1::{(t: 2, n: c),(t: 3, n: b),(t: 3, n: c),(t: 4, n: c)}agent 0::{(t: 2, n: c),(t: 4, n: d)}]\",\"[constraints::agent 1::{(t: 2, n: c),(t: 3, n: b),(t: 3, n: c)}agent 0::{(t: 2, n: c),(t: 4, n: c),(t: 4, n: d)}]\",\"[constraints::agent 1::{(t: 2, n: c),(t: 3, n: b),(t: 3, n: c),(t: 3, n: d)}agent 0::{(t: 2, n: c)}]\",\"[constraints::agent 1::{(t: 2, n: c),(t: 3, n: b),(t: 3, n: c)}agent 0::{(t: 2, n: c),(t: 3, n: c)}]conflicts : 2\",\"[constraints::agent 1::{(t: 2, n: c),(t: 3, n: b),(t: 3, n: c),(t: 4, n: c)}agent 0::{(t: 2, n: c),(t: 3, n: c)}]\",\"[constraints::agent 1::{(t: 2, n: c),(t: 3, n: b),(t: 3, n: c)}agent 0::{(t: 2, n: c),(t: 3, n: c),(t: 4, n: c)}]\",\"[constraints::agent 1::{(t: 2, n: c),(t: 3, n: b),(t: 3, n: c),(t: 4, n: c)}agent 0::{(t: 2, n: c)}]\",\"[constraints::agent 1::{(t: 2, n: c),(t: 3, n: b)}agent 0::{(t: 2, n: c),(t: 3, n: c)}]conflicts : 4\",\"[constraints::agent 1::{(t: 2, n: c),(t: 3, n: b),(t: 4, n: b)}agent 0::{(t: 2, n: c),(t: 3, n: c)}]conflicts : 3\",\"[constraints::agent 1::{(t: 2, n: c),(t: 3, n: b),(t: 3, n: c),(t: 4, n: b)}agent 0::{(t: 2, n: c),(t: 3, n: c)}]conflicts : 2\",\"[constraints::agent 1::{(t: 2, n: c),(t: 3, n: b),(t: 3, n: c),(t: 4, n: b),(t: 4, n: c)}agent 0::{(t: 2, n: c),(t: 3, n: c)}]\",\"[constraints::agent 1::{(t: 2, n: c),(t: 3, n: b),(t: 3, n: c),(t: 4, n: b)}agent 0::{(t: 2, n: c),(t: 3, n: c),(t: 4, n: c)}]\",\"[constraints::agent 1::{(t: 2, n: c),(t: 3, n: b),(t: 4, n: b),(t: 4, n: c)}agent 0::{(t: 2, n: c),(t: 3, n: c)}]\",\"[constraints::agent 1::{(t: 2, n: c),(t: 3, n: b),(t: 4, n: b)}agent 0::{(t: 2, n: c),(t: 3, n: c),(t: 4, n: c)}]\",\"[constraints::agent 1::{(t: 2, n: c),(t: 3, n: b)}agent 0::{(t: 2, n: c),(t: 3, n: b),(t: 3, n: c)}]\",\"[constraints::agent 1::{(t: 2, n: c),(t: 3, n: b)}agent 0::{(t: 2, n: c),(t: 3, n: c),(t: 4, n: c)}]\",\"[constraints::agent 1::{(t: 3, n: b),(t: 3, n: c)}agent 0::{(t: 2, n: c)}]\"],\"open\":[false,false,false,false,false,false,false,false,false,false,false,false,false,false,false,false,false,false,false,false,false,false,false,false,false,false,false,false,false,false,false,false,false,false,false,false,false,false,false,false,false,false,false,false,false,false,false,false,false,false,false,false,false,false,false,false,false,false,false,false,false,false,false,false,false,false,false,false,false,false,false,false,false,false,false,false,false,false,false,false,false,false,false,false,false,false,false,false,false,false,false,false,false,false,false,false,false,false,false,false,false,false,false,false,false],\"solution\":[\"[['a', 'b', 'c', 'd', 'e'], ['e', 'd', 'c', 'b', 'a']]\",\"[['a', 'b', 'c', 'd', 'e'], ['e', 'd', 'd', 'c', 'b', 'a']]\",\"[['a', 'b', 'c', 'd', 'e'], ['e', 'd', 'e', 'd', 'c', 'b', 'a']]\",\"[['a', 'b', 'c', 'd', 'e'], ['e', 'd', 'h', 'g', 'f', 'b', 'a']]\",\"[['a', 'b', 'c', 'c', 'd', 'e'], ['e', 'd', 'e', 'd', 'c', 'b', 'a']]\",\"[['a', 'b', 'c', 'd', 'e'], ['e', 'd', 'd', 'd', 'c', 'b', 'a']]\",\"[['a', 'b', 'c', 'd', 'e'], ['e', 'd', 'e', 'd', 'c', 'b', 'a']]\",\"[['a', 'b', 'c', 'd', 'e'], ['e', 'd', 'h', 'g', 'f', 'b', 'a']]\",\"[['a', 'b', 'c', 'c', 'd', 'e'], ['e', 'd', 'e', 'd', 'c', 'b', 'a']]\",\"[['a', 'b', 'c', 'd', 'e'], ['e', 'd', 'h', 'g', 'f', 'b', 'a']]\",\"[['a', 'b', 'c', 'c', 'd', 'e'], ['e', 'd', 'd', 'd', 'c', 'b', 'a']]\",\"[['a', 'b', 'c', 'c', 'c', 'd', 'e'], ['e', 'd', 'd', 'd', 'c', 'b', 'a']]\",\"[['a', 'b', 'c', 'b', 'c', 'd', 'e'], ['e', 'd', 'd', 'd', 'c', 'b', 'a']]\",\"[['a', 'b', 'c', 'c', 'c', 'd', 'e'], ['e', 'd', 'h', 'g', 'f', 'b', 'a']]\",\"[['a', 'b', 'f', 'g', 'h', 'd', 'e'], ['e', 'd', 'd', 'd', 'c', 'b', 'a']]\",\"[['a', 'b', 'c', 'c', 'd', 'e'], ['e', 'd', 'h', 'g', 'f', 'b', 'a']]\",\"[['a', 'b', 'c', 'b', 'c', 'd', 'e'], ['e', 'd', 'd', 'd', 'c', 'b', 'a']]\",\"[['a', 'b', 'c', 'c', 'd', 'e'], ['e', 'd', 'h', 'g', 'f', 'b', 'a']]\",\"[['a', 'b', 'c', 'c', 'd', 'e'], ['e', 'd', 'd', 'c', 'b', 'a']]\",\"[['a', 'b', 'c', 'b', 'c', 'd', 'e'], ['e', 'd', 'd', 'c', 'b', 'a']]\",\"[['a', 'b', 'b', 'c', 'd', 'e'], ['e', 'd', 'd', 'c', 'b', 'a']]\",\"[['a', 'b', 'b', 'c', 'd', 'e'], ['e', 'd', 'd', 'd', 'c', 'b', 'a']]\",\"[['a', 'b', 'b', 'c', 'c', 'd', 'e'], ['e', 'd', 'd', 'd', 'c', 'b', 'a']]\",\"[['a', 'b', 'b', 'b', 'c', 'd', 'e'], ['e', 'd', 'd', 'd', 'c', 'b', 'a']]\",\"[['a', 'b', 'b', 'b', 'c', 'd', 'e'], ['e', 'd', 'h', 'g', 'f', 'b', 'a']]\",\"[['a', 'b', 'f', 'g', 'h', 'd', 'e'], ['e', 'd', 'd', 'd', 'c', 'b', 'a']]\",\"[['a', 'b', 'b', 'c', 'c', 'd', 'e'], ['e', 'd', 'h', 'g', 'f', 'b', 'a']]\",\"[['a', 'b', 'f', 'g', 'h', 'd', 'e'], ['e', 'd', 'd', 'd', 'c', 'b', 'a']]\",\"[['a', 'b', 'b', 'c', 'd', 'e'], ['e', 'd', 'h', 'g', 'f', 'b', 'a']]\",\"[['a', 'b', 'b', 'b', 'c', 'd', 'e'], ['e', 'd', 'd', 'd', 'c', 'b', 'a']]\",\"[['a', 'b', 'b', 'b', 'c', 'd', 'e'], ['e', 'd', 'h', 'g', 'f', 'b', 'a']]\",\"[['a', 'b', 'f', 'g', 'h', 'd', 'e'], ['e', 'd', 'd', 'd', 'c', 'b', 'a']]\",\"[['a', 'b', 'b', 'c', 'd', 'e'], ['e', 'd', 'h', 'g', 'f', 'b', 'a']]\",\"[['a', 'b', 'b', 'b', 'c', 'd', 'e'], ['e', 'd', 'd', 'c', 'b', 'a']]\",\"[['a', 'b', 'b', 'b', 'c', 'd', 'e'], ['e', 'd', 'd', 'c', 'c', 'b', 'a']]\",\"[['a', 'b', 'b', 'b', 'c', 'd', 'e'], ['e', 'd', 'd', 'd', 'c', 'b', 'a']]\",\"[['a', 'b', 'b', 'b', 'c', 'd', 'e'], ['e', 'd', 'h', 'g', 'f', 'b', 'a']]\",\"[['a', 'b', 'f', 'g', 'h', 'd', 'e'], ['e', 'd', 'd', 'd', 'c', 'b', 'a']]\",\"[['a', 'b', 'b', 'b', 'c', 'd', 'e'], ['e', 'd', 'h', 'g', 'f', 'b', 'a']]\",\"[['a', 'b', 'f', 'g', 'h', 'd', 'e'], ['e', 'd', 'd', 'c', 'c', 'b', 'a']]\",\"[['a', 'b', 'f', 'g', 'h', 'd', 'e'], ['e', 'd', 'd', 'c', 'b', 'a']]\",\"[['a', 'b', 'f', 'g', 'h', 'd', 'e'], ['e', 'd', 'd', 'c', 'b', 'a']]\",\"[['a', 'b', 'b', 'c', 'd', 'e'], ['e', 'd', 'd', 'c', 'b', 'a']]\",\"[['a', 'b', 'b', 'c', 'd', 'e'], ['e', 'd', 'd', 'd', 'c', 'b', 'a']]\",\"[['a', 'b', 'b', 'c', 'c', 'd', 'e'], ['e', 'd', 'd', 'd', 'c', 'b', 'a']]\",\"[['a', 'b', 'b', 'b', 'c', 'd', 'e'], ['e', 'd', 'd', 'd', 'c', 'b', 'a']]\",\"[['a', 'b', 'b', 'b', 'c', 'd', 'e'], ['e', 'd', 'h', 'g', 'f', 'b', 'a']]\",\"[['a', 'b', 'f', 'g', 'h', 'd', 'e'], ['e', 'd', 'd', 'd', 'c', 'b', 'a']]\",\"[['a', 'b', 'b', 'c', 'c', 'd', 'e'], ['e', 'd', 'h', 'g', 'f', 'b', 'a']]\",\"[['a', 'b', 'f', 'g', 'h', 'd', 'e'], ['e', 'd', 'd', 'd', 'c', 'b', 'a']]\",\"[['a', 'b', 'b', 'c', 'd', 'e'], ['e', 'd', 'h', 'g', 'f', 'b', 'a']]\",\"[['a', 'b', 'b', 'b', 'c', 'd', 'e'], ['e', 'd', 'd', 'd', 'c', 'b', 'a']]\",\"[['a', 'b', 'b', 'b', 'c', 'd', 'e'], ['e', 'd', 'h', 'g', 'f', 'b', 'a']]\",\"[['a', 'b', 'f', 'g', 'h', 'd', 'e'], ['e', 'd', 'd', 'd', 'c', 'b', 'a']]\",\"[['a', 'b', 'b', 'c', 'd', 'e'], ['e', 'd', 'h', 'g', 'f', 'b', 'a']]\",\"[['a', 'b', 'b', 'b', 'c', 'd', 'e'], ['e', 'd', 'd', 'c', 'b', 'a']]\",\"[['a', 'b', 'b', 'b', 'c', 'd', 'e'], ['e', 'd', 'd', 'c', 'c', 'b', 'a']]\",\"[['a', 'b', 'b', 'b', 'c', 'd', 'e'], ['e', 'd', 'd', 'd', 'c', 'b', 'a']]\",\"[['a', 'b', 'b', 'b', 'c', 'd', 'e'], ['e', 'd', 'h', 'g', 'f', 'b', 'a']]\",\"[['a', 'b', 'f', 'g', 'h', 'd', 'e'], ['e', 'd', 'd', 'd', 'c', 'b', 'a']]\",\"[['a', 'b', 'b', 'b', 'c', 'd', 'e'], ['e', 'd', 'h', 'g', 'f', 'b', 'a']]\",\"[['a', 'b', 'f', 'g', 'h', 'd', 'e'], ['e', 'd', 'd', 'c', 'c', 'b', 'a']]\",\"[['a', 'b', 'f', 'g', 'h', 'd', 'e'], ['e', 'd', 'd', 'c', 'b', 'a']]\",\"[['a', 'b', 'f', 'g', 'h', 'd', 'e'], ['e', 'd', 'd', 'c', 'b', 'a']]\",\"[['a', 'b', 'b', 'c', 'd', 'e'], ['e', 'd', 'c', 'b', 'a']]\",\"[['a', 'b', 'b', 'b', 'c', 'd', 'e'], ['e', 'd', 'c', 'b', 'a']]\",\"[['a', 'b', 'f', 'g', 'h', 'd', 'e'], ['e', 'd', 'c', 'b', 'a']]\",\"[['a', 'b', 'a', 'b', 'c', 'd', 'e'], ['e', 'd', 'c', 'b', 'a']]\",\"[['a', 'b', 'f', 'g', 'h', 'd', 'e'], ['e', 'd', 'c', 'b', 'a']]\",\"[['a', 'b', 'a', 'b', 'c', 'd', 'e'], ['e', 'd', 'c', 'c', 'b', 'a']]\",\"[['a', 'b', 'b', 'b', 'c', 'd', 'e'], ['e', 'd', 'c', 'c', 'b', 'a']]\",\"[['a', 'b', 'b', 'b', 'c', 'd', 'e'], ['e', 'd', 'c', 'd', 'c', 'b', 'a']]\",\"[['a', 'b', 'b', 'b', 'c', 'd', 'e'], ['e', 'd', 'c', 'c', 'c', 'b', 'a']]\",\"[['a', 'b', 'b', 'b', 'c', 'd', 'e'], ['e', 'd', 'c', 'd', 'c', 'b', 'a']]\",\"[['a', 'b', 'b', 'b', 'c', 'd', 'e'], ['e', 'd', 'h', 'g', 'f', 'b', 'a']]\",\"[['a', 'b', 'f', 'g', 'h', 'd', 'e'], ['e', 'd', 'c', 'c', 'c', 'b', 'a']]\",\"[['a', 'b', 'f', 'g', 'h', 'd', 'e'], ['e', 'd', 'c', 'c', 'b', 'a']]\",\"[['a', 'b', 'f', 'g', 'h', 'd', 'e'], ['e', 'd', 'c', 'c', 'b', 'a']]\",\"[['a', 'b', 'a', 'b', 'c', 'd', 'e'], ['e', 'd', 'c', 'b', 'a']]\",\"[['a', 'b', 'f', 'g', 'h', 'd', 'e'], ['e', 'd', 'c', 'b', 'a']]\",\"[['a', 'b', 'a', 'b', 'c', 'd', 'e'], ['e', 'd', 'c', 'c', 'b', 'a']]\",\"[['a', 'b', 'b', 'c', 'd', 'e'], ['e', 'd', 'c', 'c', 'b', 'a']]\",\"[['a', 'b', 'b', 'c', 'd', 'e'], ['e', 'd', 'd', 'c', 'b', 'a']]\",\"[['a', 'b', 'b', 'c', 'd', 'e'], ['e', 'd', 'd', 'd', 'c', 'b', 'a']]\",\"[['a', 'b', 'b', 'c', 'c', 'd', 'e'], ['e', 'd', 'd', 'd', 'c', 'b', 'a']]\",\"[['a', 'b', 'b', 'b', 'c', 'd', 'e'], ['e', 'd', 'd', 'd', 'c', 'b', 'a']]\",\"[['a', 'b', 'b', 'b', 'c', 'd', 'e'], ['e', 'd', 'h', 'g', 'f', 'b', 'a']]\",\"[['a', 'b', 'f', 'g', 'h', 'd', 'e'], ['e', 'd', 'd', 'd', 'c', 'b', 'a']]\",\"[['a', 'b', 'b', 'c', 'c', 'd', 'e'], ['e', 'd', 'h', 'g', 'f', 'b', 'a']]\",\"[['a', 'b', 'f', 'g', 'h', 'd', 'e'], ['e', 'd', 'd', 'd', 'c', 'b', 'a']]\",\"[['a', 'b', 'b', 'c', 'd', 'e'], ['e', 'd', 'h', 'g', 'f', 'b', 'a']]\",\"[['a', 'b', 'b', 'b', 'c', 'd', 'e'], ['e', 'd', 'd', 'd', 'c', 'b', 'a']]\",\"[['a', 'b', 'b', 'b', 'c', 'd', 'e'], ['e', 'd', 'h', 'g', 'f', 'b', 'a']]\",\"[['a', 'b', 'f', 'g', 'h', 'd', 'e'], ['e', 'd', 'd', 'd', 'c', 'b', 'a']]\",\"[['a', 'b', 'b', 'c', 'd', 'e'], ['e', 'd', 'h', 'g', 'f', 'b', 'a']]\",\"[['a', 'b', 'b', 'b', 'c', 'd', 'e'], ['e', 'd', 'd', 'c', 'b', 'a']]\",\"[['a', 'b', 'b', 'b', 'c', 'd', 'e'], ['e', 'd', 'd', 'c', 'c', 'b', 'a']]\",\"[['a', 'b', 'b', 'b', 'c', 'd', 'e'], ['e', 'd', 'd', 'd', 'c', 'b', 'a']]\",\"[['a', 'b', 'b', 'b', 'c', 'd', 'e'], ['e', 'd', 'h', 'g', 'f', 'b', 'a']]\",\"[['a', 'b', 'f', 'g', 'h', 'd', 'e'], ['e', 'd', 'd', 'd', 'c', 'b', 'a']]\",\"[['a', 'b', 'b', 'b', 'c', 'd', 'e'], ['e', 'd', 'h', 'g', 'f', 'b', 'a']]\",\"[['a', 'b', 'f', 'g', 'h', 'd', 'e'], ['e', 'd', 'd', 'c', 'c', 'b', 'a']]\",\"[['a', 'b', 'f', 'g', 'h', 'd', 'e'], ['e', 'd', 'd', 'c', 'b', 'a']]\",\"[['a', 'b', 'f', 'g', 'h', 'd', 'e'], ['e', 'd', 'd', 'c', 'b', 'a']]\",\"[['a', 'b', 'b', 'c', 'd', 'e'], ['e', 'd', 'c', 'd', 'c', 'b', 'a']]\"],\"valid\":[false,false,false,true,false,false,false,true,false,true,false,false,false,false,false,false,false,false,false,false,false,false,false,false,false,false,false,false,false,false,false,false,false,false,false,false,false,false,false,false,false,false,false,false,false,false,false,false,false,false,false,false,false,false,false,false,false,false,false,false,false,false,false,false,false,false,true,false,true,false,false,false,false,false,false,false,false,false,false,true,false,false,false,false,false,false,false,false,false,false,false,false,false,false,false,false,false,false,false,false,false,false,false,false,false],\"weight\":[0,1,2,3,3,2,3,4,4,3,3,4,5,5,5,4,4,4,2,3,3,4,5,6,7,7,6,6,5,5,6,6,5,4,5,6,7,7,6,6,5,5,2,3,4,5,6,6,5,5,4,4,5,5,4,3,4,5,6,6,5,5,4,4,1,2,3,3,4,4,3,4,4,5,5,5,4,4,2,3,3,2,3,4,5,6,7,7,6,6,5,5,6,6,5,4,5,6,7,7,6,6,5,5,3]},\"selected\":{\"id\":\"2391\"},\"selection_policy\":{\"id\":\"2390\"}},\"id\":\"2241\",\"type\":\"ColumnDataSource\"},{\"attributes\":{\"high\":12,\"low\":8,\"palette\":[\"#440154\",\"#440255\",\"#440357\",\"#450558\",\"#45065A\",\"#45085B\",\"#46095C\",\"#460B5E\",\"#460C5F\",\"#460E61\",\"#470F62\",\"#471163\",\"#471265\",\"#471466\",\"#471567\",\"#471669\",\"#47186A\",\"#48196B\",\"#481A6C\",\"#481C6E\",\"#481D6F\",\"#481E70\",\"#482071\",\"#482172\",\"#482273\",\"#482374\",\"#472575\",\"#472676\",\"#472777\",\"#472878\",\"#472A79\",\"#472B7A\",\"#472C7B\",\"#462D7C\",\"#462F7C\",\"#46307D\",\"#46317E\",\"#45327F\",\"#45347F\",\"#453580\",\"#453681\",\"#443781\",\"#443982\",\"#433A83\",\"#433B83\",\"#433C84\",\"#423D84\",\"#423E85\",\"#424085\",\"#414186\",\"#414286\",\"#404387\",\"#404487\",\"#3F4587\",\"#3F4788\",\"#3E4888\",\"#3E4989\",\"#3D4A89\",\"#3D4B89\",\"#3D4C89\",\"#3C4D8A\",\"#3C4E8A\",\"#3B508A\",\"#3B518A\",\"#3A528B\",\"#3A538B\",\"#39548B\",\"#39558B\",\"#38568B\",\"#38578C\",\"#37588C\",\"#37598C\",\"#365A8C\",\"#365B8C\",\"#355C8C\",\"#355D8C\",\"#345E8D\",\"#345F8D\",\"#33608D\",\"#33618D\",\"#32628D\",\"#32638D\",\"#31648D\",\"#31658D\",\"#31668D\",\"#30678D\",\"#30688D\",\"#2F698D\",\"#2F6A8D\",\"#2E6B8E\",\"#2E6C8E\",\"#2E6D8E\",\"#2D6E8E\",\"#2D6F8E\",\"#2C708E\",\"#2C718E\",\"#2C728E\",\"#2B738E\",\"#2B748E\",\"#2A758E\",\"#2A768E\",\"#2A778E\",\"#29788E\",\"#29798E\",\"#287A8E\",\"#287A8E\",\"#287B8E\",\"#277C8E\",\"#277D8E\",\"#277E8E\",\"#267F8E\",\"#26808E\",\"#26818E\",\"#25828E\",\"#25838D\",\"#24848D\",\"#24858D\",\"#24868D\",\"#23878D\",\"#23888D\",\"#23898D\",\"#22898D\",\"#228A8D\",\"#228B8D\",\"#218C8D\",\"#218D8C\",\"#218E8C\",\"#208F8C\",\"#20908C\",\"#20918C\",\"#1F928C\",\"#1F938B\",\"#1F948B\",\"#1F958B\",\"#1F968B\",\"#1E978A\",\"#1E988A\",\"#1E998A\",\"#1E998A\",\"#1E9A89\",\"#1E9B89\",\"#1E9C89\",\"#1E9D88\",\"#1E9E88\",\"#1E9F88\",\"#1EA087\",\"#1FA187\",\"#1FA286\",\"#1FA386\",\"#20A485\",\"#20A585\",\"#21A685\",\"#21A784\",\"#22A784\",\"#23A883\",\"#23A982\",\"#24AA82\",\"#25AB81\",\"#26AC81\",\"#27AD80\",\"#28AE7F\",\"#29AF7F\",\"#2AB07E\",\"#2BB17D\",\"#2CB17D\",\"#2EB27C\",\"#2FB37B\",\"#30B47A\",\"#32B57A\",\"#33B679\",\"#35B778\",\"#36B877\",\"#38B976\",\"#39B976\",\"#3BBA75\",\"#3DBB74\",\"#3EBC73\",\"#40BD72\",\"#42BE71\",\"#44BE70\",\"#45BF6F\",\"#47C06E\",\"#49C16D\",\"#4BC26C\",\"#4DC26B\",\"#4FC369\",\"#51C468\",\"#53C567\",\"#55C666\",\"#57C665\",\"#59C764\",\"#5BC862\",\"#5EC961\",\"#60C960\",\"#62CA5F\",\"#64CB5D\",\"#67CC5C\",\"#69CC5B\",\"#6BCD59\",\"#6DCE58\",\"#70CE56\",\"#72CF55\",\"#74D054\",\"#77D052\",\"#79D151\",\"#7CD24F\",\"#7ED24E\",\"#81D34C\",\"#83D34B\",\"#86D449\",\"#88D547\",\"#8BD546\",\"#8DD644\",\"#90D643\",\"#92D741\",\"#95D73F\",\"#97D83E\",\"#9AD83C\",\"#9DD93A\",\"#9FD938\",\"#A2DA37\",\"#A5DA35\",\"#A7DB33\",\"#AADB32\",\"#ADDC30\",\"#AFDC2E\",\"#B2DD2C\",\"#B5DD2B\",\"#B7DD29\",\"#BADE27\",\"#BDDE26\",\"#BFDF24\",\"#C2DF22\",\"#C5DF21\",\"#C7E01F\",\"#CAE01E\",\"#CDE01D\",\"#CFE11C\",\"#D2E11B\",\"#D4E11A\",\"#D7E219\",\"#DAE218\",\"#DCE218\",\"#DFE318\",\"#E1E318\",\"#E4E318\",\"#E7E419\",\"#E9E419\",\"#ECE41A\",\"#EEE51B\",\"#F1E51C\",\"#F3E51E\",\"#F6E61F\",\"#F8E621\",\"#FAE622\",\"#FDE724\"]},\"id\":\"2253\",\"type\":\"LinearColorMapper\"},{\"attributes\":{\"coordinates\":null,\"data_source\":{\"id\":\"2241\"},\"glyph\":{\"id\":\"2240\"},\"group\":null,\"hover_glyph\":null,\"view\":{\"id\":\"2243\"}},\"id\":\"2242\",\"type\":\"GlyphRenderer\"},{\"attributes\":{\"coordinates\":null,\"formatter\":{\"id\":\"2384\"},\"group\":null,\"major_label_policy\":{\"id\":\"2385\"},\"ticker\":{\"id\":\"2222\"}},\"id\":\"2221\",\"type\":\"LinearAxis\"},{\"attributes\":{\"callback\":null,\"tooltips\":\"nc: @weight, f: @fitness, @solution, @label, open: @open\"},\"id\":\"2260\",\"type\":\"HoverTool\"},{\"attributes\":{\"data\":{\"end\":[1,64,2,5,18,42,3,4,6,9,10,7,8,11,15,16,17,12,13,14,19,20,21,33,22,28,29,32,23,26,27,24,25,30,31,34,40,41,35,38,39,36,37,43,55,44,50,51,54,45,48,49,46,47,52,53,56,62,63,57,60,61,58,59,65,78,81,66,67,70,68,69,71,72,76,77,73,74,75,79,80,82,104,83,95,84,90,91,94,85,88,89,86,87,92,93,96,102,103,97,100,101,98,99],\"start\":[0,0,1,1,1,1,2,2,5,5,5,6,6,10,10,10,10,11,11,11,18,18,20,20,21,21,21,21,22,22,22,23,23,29,29,33,33,33,34,34,34,35,35,42,42,43,43,43,43,44,44,44,45,45,51,51,55,55,55,56,56,56,57,57,64,64,64,65,65,65,67,67,70,70,70,70,72,72,72,78,78,81,81,82,82,83,83,83,83,84,84,84,85,85,91,91,95,95,95,96,96,96,97,97]},\"selected\":{\"id\":\"2393\"},\"selection_policy\":{\"id\":\"2392\"}},\"id\":\"2245\",\"type\":\"ColumnDataSource\"},{\"attributes\":{},\"id\":\"2228\",\"type\":\"SaveTool\"},{\"attributes\":{\"fill_color\":{\"field\":\"fitness\",\"transform\":{\"id\":\"2253\"}},\"size\":{\"value\":20}},\"id\":\"2240\",\"type\":\"Circle\"},{\"attributes\":{},\"id\":\"2209\",\"type\":\"DataRange1d\"},{\"attributes\":{},\"id\":\"2387\",\"type\":\"BasicTickFormatter\"},{\"attributes\":{\"overlay\":{\"id\":\"2231\"}},\"id\":\"2227\",\"type\":\"BoxZoomTool\"},{\"attributes\":{},\"id\":\"2215\",\"type\":\"LinearScale\"},{\"attributes\":{},\"id\":\"2384\",\"type\":\"BasicTickFormatter\"},{\"attributes\":{\"tools\":[{\"id\":\"2225\"},{\"id\":\"2226\"},{\"id\":\"2227\"},{\"id\":\"2228\"},{\"id\":\"2229\"},{\"id\":\"2230\"},{\"id\":\"2260\"}]},\"id\":\"2232\",\"type\":\"Toolbar\"}],\"root_ids\":[\"2208\"]},\"title\":\"Bokeh Application\",\"version\":\"2.4.1\"}};\n",
       "  const render_items = [{\"docid\":\"1d9a40ac-420c-497f-a4d0-c2fa0391ae5e\",\"root_ids\":[\"2208\"],\"roots\":{\"2208\":\"f1a66178-35c8-4cb7-8e5d-c39f32f2254f\"}}];\n",
       "  root.Bokeh.embed.embed_items_notebook(docs_json, render_items);\n",
       "\n",
       "  }\n",
       "  if (root.Bokeh !== undefined) {\n",
       "    embed_document(root);\n",
       "  } else {\n",
       "    let attempts = 0;\n",
       "    const timer = setInterval(function(root) {\n",
       "      if (root.Bokeh !== undefined) {\n",
       "        clearInterval(timer);\n",
       "        embed_document(root);\n",
       "      } else {\n",
       "        attempts++;\n",
       "        if (attempts > 100) {\n",
       "          clearInterval(timer);\n",
       "          console.log(\"Bokeh: ERROR: Unable to run BokehJS code because BokehJS library is missing\");\n",
       "        }\n",
       "      }\n",
       "    }, 10, root)\n",
       "  }\n",
       "})(window);"
      ],
      "application/vnd.bokehjs_exec.v0+json": ""
     },
     "metadata": {
      "application/vnd.bokehjs_exec.v0+json": {
       "id": "2208"
      }
     },
     "output_type": "display_data"
    }
   ],
   "source": [
    "# We could use figure here but don't want all the axes and titles\n",
    "plot = figure()\n",
    "#plot.add_tools(WheelZoomTool(), PanTool())\n",
    "\n",
    "# Create a Bokeh graph from the NetworkX input using nx.spring_layout\n",
    "graph = from_networkx(cbs.root.graph(), nx.multipartite_layout, subset_key='weight', scale=1.8, center=(0,0))\n",
    "plot.renderers.append(graph)\n",
    "\n",
    "# Set some of the default node glyph (Circle) properties\n",
    "graph.node_renderer.glyph.update(size=20, fill_color=linear_cmap('fitness', 'Viridis256', 8, 12))\n",
    "\n",
    "# Set some edge properties too\n",
    "graph.edge_renderer.glyph.line_dash = [2,2]\n",
    "\n",
    "# When we hover over nodes, highlight adjecent edges too\n",
    "graph.inspection_policy = NodesAndLinkedEdges()\n",
    "\n",
    "plot.add_tools(HoverTool(tooltips=\"nc: @weight, f: @fitness, @solution, @label, open: @open\"))\n",
    "\n",
    "show(plot)"
   ]
  },
  {
   "cell_type": "code",
   "execution_count": 17,
   "id": "d9a11c24-5e11-4c1d-a96e-324d6f2fffad",
   "metadata": {},
   "outputs": [
    {
     "data": {
      "text/plain": [
       "[['a', 'b', 'c', 'd', 'e'], ['e', 'd', 'h', 'g', 'f', 'b', 'a']]"
      ]
     },
     "execution_count": 17,
     "metadata": {},
     "output_type": "execute_result"
    }
   ],
   "source": [
    "cbs.best.solution"
   ]
  },
  {
   "cell_type": "code",
   "execution_count": 18,
   "id": "dd067c0d-862a-4e2e-b393-42de5a6928e7",
   "metadata": {},
   "outputs": [
    {
     "data": {
      "text/plain": [
       "105"
      ]
     },
     "execution_count": 18,
     "metadata": {},
     "output_type": "execute_result"
    }
   ],
   "source": [
    "cbs.iteration_counter"
   ]
  },
  {
   "cell_type": "code",
   "execution_count": 19,
   "id": "7104de3b-ec6f-4f1a-8e4b-05b094f3b572",
   "metadata": {},
   "outputs": [
    {
     "data": {
      "text/plain": [
       "6"
      ]
     },
     "execution_count": 19,
     "metadata": {},
     "output_type": "execute_result"
    }
   ],
   "source": [
    "cbs.duplicate_counter"
   ]
  },
  {
   "cell_type": "code",
   "execution_count": 32,
   "id": "d26a43b9-6971-4870-a383-6639f1310f3c",
   "metadata": {},
   "outputs": [],
   "source": [
    "cbs2 = pathfinding.CBS(nx.grid_graph((10, 10)), [((0,0), (5,5)), ((5,5),(0,0))], limit=10)"
   ]
  },
  {
   "cell_type": "code",
   "execution_count": 33,
   "id": "fe96801a-cf78-4369-9912-7939b81b0e06",
   "metadata": {},
   "outputs": [
    {
     "ename": "KeyError",
     "evalue": "'pos'",
     "output_type": "error",
     "traceback": [
      "\u001b[0;31m---------------------------------------------------------------------------\u001b[0m",
      "\u001b[0;31mKeyError\u001b[0m                                  Traceback (most recent call last)",
      "\u001b[0;32m<ipython-input-33-d1c1d4a6eef0>\u001b[0m in \u001b[0;36m<module>\u001b[0;34m\u001b[0m\n\u001b[0;32m----> 1\u001b[0;31m \u001b[0mcbs2\u001b[0m\u001b[0;34m.\u001b[0m\u001b[0mrun\u001b[0m\u001b[0;34m(\u001b[0m\u001b[0;34m)\u001b[0m\u001b[0;34m\u001b[0m\u001b[0;34m\u001b[0m\u001b[0m\n\u001b[0m",
      "\u001b[0;32m~/Software/polygonal_roadmaps/polygonal_roadmaps/pathfinding.py\u001b[0m in \u001b[0;36mrun\u001b[0;34m(self)\u001b[0m\n\u001b[1;32m    346\u001b[0m \u001b[0;34m\u001b[0m\u001b[0m\n\u001b[1;32m    347\u001b[0m     \u001b[0;32mdef\u001b[0m \u001b[0mrun\u001b[0m\u001b[0;34m(\u001b[0m\u001b[0mself\u001b[0m\u001b[0;34m)\u001b[0m\u001b[0;34m:\u001b[0m\u001b[0;34m\u001b[0m\u001b[0;34m\u001b[0m\u001b[0m\n\u001b[0;32m--> 348\u001b[0;31m         \u001b[0mself\u001b[0m\u001b[0;34m.\u001b[0m\u001b[0msetup\u001b[0m\u001b[0;34m(\u001b[0m\u001b[0;34m)\u001b[0m\u001b[0;34m\u001b[0m\u001b[0;34m\u001b[0m\u001b[0m\n\u001b[0m\u001b[1;32m    349\u001b[0m         \u001b[0;32mfor\u001b[0m \u001b[0m_\u001b[0m \u001b[0;32min\u001b[0m \u001b[0mrange\u001b[0m\u001b[0;34m(\u001b[0m\u001b[0mself\u001b[0m\u001b[0;34m.\u001b[0m\u001b[0mmax_iter\u001b[0m\u001b[0;34m)\u001b[0m\u001b[0;34m:\u001b[0m\u001b[0;34m\u001b[0m\u001b[0;34m\u001b[0m\u001b[0m\n\u001b[1;32m    350\u001b[0m             \u001b[0;32mif\u001b[0m \u001b[0;32mnot\u001b[0m \u001b[0mself\u001b[0m\u001b[0;34m.\u001b[0m\u001b[0mstep\u001b[0m\u001b[0;34m(\u001b[0m\u001b[0;34m)\u001b[0m\u001b[0;34m:\u001b[0m\u001b[0;34m\u001b[0m\u001b[0;34m\u001b[0m\u001b[0m\n",
      "\u001b[0;32m~/Software/polygonal_roadmaps/polygonal_roadmaps/pathfinding.py\u001b[0m in \u001b[0;36msetup\u001b[0;34m(self)\u001b[0m\n\u001b[1;32m    333\u001b[0m         \u001b[0mself\u001b[0m\u001b[0;34m.\u001b[0m\u001b[0mbest\u001b[0m \u001b[0;34m=\u001b[0m \u001b[0;32mNone\u001b[0m\u001b[0;34m\u001b[0m\u001b[0;34m\u001b[0m\u001b[0m\n\u001b[1;32m    334\u001b[0m         \u001b[0mself\u001b[0m\u001b[0;34m.\u001b[0m\u001b[0mopen\u001b[0m \u001b[0;34m=\u001b[0m \u001b[0;34m[\u001b[0m\u001b[0;34m]\u001b[0m\u001b[0;34m\u001b[0m\u001b[0;34m\u001b[0m\u001b[0m\n\u001b[0;32m--> 335\u001b[0;31m         \u001b[0mself\u001b[0m\u001b[0;34m.\u001b[0m\u001b[0mevaluate_node\u001b[0m\u001b[0;34m(\u001b[0m\u001b[0mself\u001b[0m\u001b[0;34m.\u001b[0m\u001b[0mroot\u001b[0m\u001b[0;34m)\u001b[0m\u001b[0;34m\u001b[0m\u001b[0;34m\u001b[0m\u001b[0m\n\u001b[0m\u001b[1;32m    336\u001b[0m         \u001b[0mself\u001b[0m\u001b[0;34m.\u001b[0m\u001b[0mpush\u001b[0m\u001b[0;34m(\u001b[0m\u001b[0mself\u001b[0m\u001b[0;34m.\u001b[0m\u001b[0mroot\u001b[0m\u001b[0;34m)\u001b[0m\u001b[0;34m\u001b[0m\u001b[0;34m\u001b[0m\u001b[0m\n\u001b[1;32m    337\u001b[0m \u001b[0;34m\u001b[0m\u001b[0m\n",
      "\u001b[0;32m~/Software/polygonal_roadmaps/polygonal_roadmaps/pathfinding.py\u001b[0m in \u001b[0;36mevaluate_node\u001b[0;34m(self, node)\u001b[0m\n\u001b[1;32m    374\u001b[0m                 \u001b[0msn\u001b[0m\u001b[0;34m,\u001b[0m \u001b[0mgn\u001b[0m \u001b[0;34m=\u001b[0m \u001b[0mself\u001b[0m\u001b[0;34m.\u001b[0m\u001b[0mstart_goal\u001b[0m\u001b[0;34m[\u001b[0m\u001b[0magent\u001b[0m\u001b[0;34m]\u001b[0m\u001b[0;34m\u001b[0m\u001b[0;34m\u001b[0m\u001b[0m\n\u001b[1;32m    375\u001b[0m                 \u001b[0;32mtry\u001b[0m\u001b[0;34m:\u001b[0m\u001b[0;34m\u001b[0m\u001b[0;34m\u001b[0m\u001b[0m\n\u001b[0;32m--> 376\u001b[0;31m                     \u001b[0mself\u001b[0m\u001b[0;34m.\u001b[0m\u001b[0mcache\u001b[0m\u001b[0;34m[\u001b[0m\u001b[0magent\u001b[0m\u001b[0;34m,\u001b[0m \u001b[0mnc\u001b[0m\u001b[0;34m]\u001b[0m \u001b[0;34m=\u001b[0m \u001b[0mspacetime_astar\u001b[0m\u001b[0;34m(\u001b[0m\u001b[0mself\u001b[0m\u001b[0;34m.\u001b[0m\u001b[0mg\u001b[0m\u001b[0;34m,\u001b[0m \u001b[0msn\u001b[0m\u001b[0;34m,\u001b[0m \u001b[0mgn\u001b[0m\u001b[0;34m,\u001b[0m \u001b[0mself\u001b[0m\u001b[0;34m.\u001b[0m\u001b[0mcosts\u001b[0m\u001b[0;34m[\u001b[0m\u001b[0magent\u001b[0m\u001b[0;34m]\u001b[0m\u001b[0;34m,\u001b[0m \u001b[0mnode_constraints\u001b[0m\u001b[0;34m=\u001b[0m\u001b[0mnc\u001b[0m\u001b[0;34m,\u001b[0m \u001b[0mlimit\u001b[0m\u001b[0;34m=\u001b[0m\u001b[0mself\u001b[0m\u001b[0;34m.\u001b[0m\u001b[0mlimit\u001b[0m\u001b[0;34m)\u001b[0m\u001b[0;34m\u001b[0m\u001b[0;34m\u001b[0m\u001b[0m\n\u001b[0m\u001b[1;32m    377\u001b[0m                 \u001b[0;32mexcept\u001b[0m \u001b[0mnx\u001b[0m\u001b[0;34m.\u001b[0m\u001b[0mNetworkXNoPath\u001b[0m\u001b[0;34m:\u001b[0m\u001b[0;34m\u001b[0m\u001b[0;34m\u001b[0m\u001b[0m\n\u001b[1;32m    378\u001b[0m                     \u001b[0mself\u001b[0m\u001b[0;34m.\u001b[0m\u001b[0mcache\u001b[0m\u001b[0;34m[\u001b[0m\u001b[0magent\u001b[0m\u001b[0;34m,\u001b[0m \u001b[0mnc\u001b[0m\u001b[0;34m]\u001b[0m \u001b[0;34m=\u001b[0m \u001b[0;32mNone\u001b[0m\u001b[0;34m\u001b[0m\u001b[0;34m\u001b[0m\u001b[0m\n",
      "\u001b[0;32m~/Software/polygonal_roadmaps/polygonal_roadmaps/pathfinding.py\u001b[0m in \u001b[0;36mspacetime_astar\u001b[0;34m(G, source, target, cost, limit, node_constraints, return_graph)\u001b[0m\n\u001b[1;32m    116\u001b[0m \u001b[0;32mdef\u001b[0m \u001b[0mspacetime_astar\u001b[0m\u001b[0;34m(\u001b[0m\u001b[0mG\u001b[0m\u001b[0;34m,\u001b[0m \u001b[0msource\u001b[0m\u001b[0;34m,\u001b[0m \u001b[0mtarget\u001b[0m\u001b[0;34m,\u001b[0m \u001b[0mcost\u001b[0m\u001b[0;34m,\u001b[0m \u001b[0mlimit\u001b[0m\u001b[0;34m=\u001b[0m\u001b[0;36m100\u001b[0m\u001b[0;34m,\u001b[0m \u001b[0mnode_constraints\u001b[0m\u001b[0;34m=\u001b[0m\u001b[0;32mNone\u001b[0m\u001b[0;34m,\u001b[0m \u001b[0mreturn_graph\u001b[0m\u001b[0;34m=\u001b[0m\u001b[0;32mFalse\u001b[0m\u001b[0;34m)\u001b[0m\u001b[0;34m:\u001b[0m\u001b[0;34m\u001b[0m\u001b[0;34m\u001b[0m\u001b[0m\n\u001b[1;32m    117\u001b[0m     \u001b[0;31m# we search the path one time with normal A*, so we know that all nodes exist and are connected\u001b[0m\u001b[0;34m\u001b[0m\u001b[0;34m\u001b[0m\u001b[0m\n\u001b[0;32m--> 118\u001b[0;31m     \u001b[0mspatial_path\u001b[0m \u001b[0;34m=\u001b[0m \u001b[0mspatial_astar\u001b[0m\u001b[0;34m(\u001b[0m\u001b[0mG\u001b[0m\u001b[0;34m,\u001b[0m \u001b[0msource\u001b[0m\u001b[0;34m,\u001b[0m \u001b[0mtarget\u001b[0m\u001b[0;34m)\u001b[0m\u001b[0;34m\u001b[0m\u001b[0;34m\u001b[0m\u001b[0m\n\u001b[0m\u001b[1;32m    119\u001b[0m     \u001b[0;31m# if the path is longer than needed\u001b[0m\u001b[0;34m\u001b[0m\u001b[0;34m\u001b[0m\u001b[0m\n\u001b[1;32m    120\u001b[0m     \u001b[0;32mif\u001b[0m \u001b[0mlen\u001b[0m\u001b[0;34m(\u001b[0m\u001b[0mspatial_path\u001b[0m\u001b[0;34m)\u001b[0m \u001b[0;34m>\u001b[0m \u001b[0mlimit\u001b[0m\u001b[0;34m:\u001b[0m\u001b[0;34m\u001b[0m\u001b[0;34m\u001b[0m\u001b[0m\n",
      "\u001b[0;32m~/Software/polygonal_roadmaps/polygonal_roadmaps/pathfinding.py\u001b[0m in \u001b[0;36mspatial_astar\u001b[0;34m(G, source, target)\u001b[0m\n\u001b[1;32m    102\u001b[0m     \u001b[0;32mdef\u001b[0m \u001b[0mheuristic\u001b[0m\u001b[0;34m(\u001b[0m\u001b[0mu\u001b[0m\u001b[0;34m,\u001b[0m \u001b[0mv\u001b[0m\u001b[0;34m)\u001b[0m\u001b[0;34m:\u001b[0m\u001b[0;34m\u001b[0m\u001b[0;34m\u001b[0m\u001b[0m\n\u001b[1;32m    103\u001b[0m         \u001b[0;32mreturn\u001b[0m \u001b[0mnp\u001b[0m\u001b[0;34m.\u001b[0m\u001b[0mlinalg\u001b[0m\u001b[0;34m.\u001b[0m\u001b[0mnorm\u001b[0m\u001b[0;34m(\u001b[0m\u001b[0mnp\u001b[0m\u001b[0;34m.\u001b[0m\u001b[0marray\u001b[0m\u001b[0;34m(\u001b[0m\u001b[0mG\u001b[0m\u001b[0;34m.\u001b[0m\u001b[0mnodes\u001b[0m\u001b[0;34m(\u001b[0m\u001b[0;34m)\u001b[0m\u001b[0;34m[\u001b[0m\u001b[0mu\u001b[0m\u001b[0;34m]\u001b[0m\u001b[0;34m[\u001b[0m\u001b[0;34m'pos'\u001b[0m\u001b[0;34m]\u001b[0m\u001b[0;34m)\u001b[0m \u001b[0;34m-\u001b[0m \u001b[0mnp\u001b[0m\u001b[0;34m.\u001b[0m\u001b[0marray\u001b[0m\u001b[0;34m(\u001b[0m\u001b[0mG\u001b[0m\u001b[0;34m.\u001b[0m\u001b[0mnodes\u001b[0m\u001b[0;34m(\u001b[0m\u001b[0;34m)\u001b[0m\u001b[0;34m[\u001b[0m\u001b[0mv\u001b[0m\u001b[0;34m]\u001b[0m\u001b[0;34m[\u001b[0m\u001b[0;34m'pos'\u001b[0m\u001b[0;34m]\u001b[0m\u001b[0;34m)\u001b[0m\u001b[0;34m)\u001b[0m\u001b[0;34m\u001b[0m\u001b[0;34m\u001b[0m\u001b[0m\n\u001b[0;32m--> 104\u001b[0;31m     \u001b[0;32mreturn\u001b[0m \u001b[0mnx\u001b[0m\u001b[0;34m.\u001b[0m\u001b[0mastar_path\u001b[0m\u001b[0;34m(\u001b[0m\u001b[0mG\u001b[0m\u001b[0;34m,\u001b[0m \u001b[0msource\u001b[0m\u001b[0;34m=\u001b[0m\u001b[0msource\u001b[0m\u001b[0;34m,\u001b[0m \u001b[0mtarget\u001b[0m\u001b[0;34m=\u001b[0m\u001b[0mtarget\u001b[0m\u001b[0;34m,\u001b[0m \u001b[0mheuristic\u001b[0m\u001b[0;34m=\u001b[0m\u001b[0mheuristic\u001b[0m\u001b[0;34m,\u001b[0m \u001b[0mweight\u001b[0m\u001b[0;34m=\u001b[0m\u001b[0;34m'dist'\u001b[0m\u001b[0;34m)\u001b[0m\u001b[0;34m\u001b[0m\u001b[0;34m\u001b[0m\u001b[0m\n\u001b[0m\u001b[1;32m    105\u001b[0m \u001b[0;34m\u001b[0m\u001b[0m\n\u001b[1;32m    106\u001b[0m \u001b[0;32mdef\u001b[0m \u001b[0mcompute_cost\u001b[0m\u001b[0;34m(\u001b[0m\u001b[0mG\u001b[0m\u001b[0;34m,\u001b[0m \u001b[0mtarget\u001b[0m\u001b[0;34m,\u001b[0m \u001b[0mlimit\u001b[0m\u001b[0;34m=\u001b[0m\u001b[0;36m100\u001b[0m\u001b[0;34m)\u001b[0m\u001b[0;34m:\u001b[0m\u001b[0;34m\u001b[0m\u001b[0;34m\u001b[0m\u001b[0m\n",
      "\u001b[0;32m~/opt/anaconda3/envs/random_progress_model/lib/python3.9/site-packages/networkx/algorithms/shortest_paths/astar.py\u001b[0m in \u001b[0;36mastar_path\u001b[0;34m(G, source, target, heuristic, weight)\u001b[0m\n\u001b[1;32m    132\u001b[0m                     \u001b[0;32mcontinue\u001b[0m\u001b[0;34m\u001b[0m\u001b[0;34m\u001b[0m\u001b[0m\n\u001b[1;32m    133\u001b[0m             \u001b[0;32melse\u001b[0m\u001b[0;34m:\u001b[0m\u001b[0;34m\u001b[0m\u001b[0;34m\u001b[0m\u001b[0m\n\u001b[0;32m--> 134\u001b[0;31m                 \u001b[0mh\u001b[0m \u001b[0;34m=\u001b[0m \u001b[0mheuristic\u001b[0m\u001b[0;34m(\u001b[0m\u001b[0mneighbor\u001b[0m\u001b[0;34m,\u001b[0m \u001b[0mtarget\u001b[0m\u001b[0;34m)\u001b[0m\u001b[0;34m\u001b[0m\u001b[0;34m\u001b[0m\u001b[0m\n\u001b[0m\u001b[1;32m    135\u001b[0m             \u001b[0menqueued\u001b[0m\u001b[0;34m[\u001b[0m\u001b[0mneighbor\u001b[0m\u001b[0;34m]\u001b[0m \u001b[0;34m=\u001b[0m \u001b[0mncost\u001b[0m\u001b[0;34m,\u001b[0m \u001b[0mh\u001b[0m\u001b[0;34m\u001b[0m\u001b[0;34m\u001b[0m\u001b[0m\n\u001b[1;32m    136\u001b[0m             \u001b[0mpush\u001b[0m\u001b[0;34m(\u001b[0m\u001b[0mqueue\u001b[0m\u001b[0;34m,\u001b[0m \u001b[0;34m(\u001b[0m\u001b[0mncost\u001b[0m \u001b[0;34m+\u001b[0m \u001b[0mh\u001b[0m\u001b[0;34m,\u001b[0m \u001b[0mnext\u001b[0m\u001b[0;34m(\u001b[0m\u001b[0mc\u001b[0m\u001b[0;34m)\u001b[0m\u001b[0;34m,\u001b[0m \u001b[0mneighbor\u001b[0m\u001b[0;34m,\u001b[0m \u001b[0mncost\u001b[0m\u001b[0;34m,\u001b[0m \u001b[0mcurnode\u001b[0m\u001b[0;34m)\u001b[0m\u001b[0;34m)\u001b[0m\u001b[0;34m\u001b[0m\u001b[0;34m\u001b[0m\u001b[0m\n",
      "\u001b[0;32m~/Software/polygonal_roadmaps/polygonal_roadmaps/pathfinding.py\u001b[0m in \u001b[0;36mheuristic\u001b[0;34m(u, v)\u001b[0m\n\u001b[1;32m    101\u001b[0m \u001b[0;32mdef\u001b[0m \u001b[0mspatial_astar\u001b[0m\u001b[0;34m(\u001b[0m\u001b[0mG\u001b[0m\u001b[0;34m,\u001b[0m \u001b[0msource\u001b[0m\u001b[0;34m,\u001b[0m \u001b[0mtarget\u001b[0m\u001b[0;34m)\u001b[0m\u001b[0;34m:\u001b[0m\u001b[0;34m\u001b[0m\u001b[0;34m\u001b[0m\u001b[0m\n\u001b[1;32m    102\u001b[0m     \u001b[0;32mdef\u001b[0m \u001b[0mheuristic\u001b[0m\u001b[0;34m(\u001b[0m\u001b[0mu\u001b[0m\u001b[0;34m,\u001b[0m \u001b[0mv\u001b[0m\u001b[0;34m)\u001b[0m\u001b[0;34m:\u001b[0m\u001b[0;34m\u001b[0m\u001b[0;34m\u001b[0m\u001b[0m\n\u001b[0;32m--> 103\u001b[0;31m         \u001b[0;32mreturn\u001b[0m \u001b[0mnp\u001b[0m\u001b[0;34m.\u001b[0m\u001b[0mlinalg\u001b[0m\u001b[0;34m.\u001b[0m\u001b[0mnorm\u001b[0m\u001b[0;34m(\u001b[0m\u001b[0mnp\u001b[0m\u001b[0;34m.\u001b[0m\u001b[0marray\u001b[0m\u001b[0;34m(\u001b[0m\u001b[0mG\u001b[0m\u001b[0;34m.\u001b[0m\u001b[0mnodes\u001b[0m\u001b[0;34m(\u001b[0m\u001b[0;34m)\u001b[0m\u001b[0;34m[\u001b[0m\u001b[0mu\u001b[0m\u001b[0;34m]\u001b[0m\u001b[0;34m[\u001b[0m\u001b[0;34m'pos'\u001b[0m\u001b[0;34m]\u001b[0m\u001b[0;34m)\u001b[0m \u001b[0;34m-\u001b[0m \u001b[0mnp\u001b[0m\u001b[0;34m.\u001b[0m\u001b[0marray\u001b[0m\u001b[0;34m(\u001b[0m\u001b[0mG\u001b[0m\u001b[0;34m.\u001b[0m\u001b[0mnodes\u001b[0m\u001b[0;34m(\u001b[0m\u001b[0;34m)\u001b[0m\u001b[0;34m[\u001b[0m\u001b[0mv\u001b[0m\u001b[0;34m]\u001b[0m\u001b[0;34m[\u001b[0m\u001b[0;34m'pos'\u001b[0m\u001b[0;34m]\u001b[0m\u001b[0;34m)\u001b[0m\u001b[0;34m)\u001b[0m\u001b[0;34m\u001b[0m\u001b[0;34m\u001b[0m\u001b[0m\n\u001b[0m\u001b[1;32m    104\u001b[0m     \u001b[0;32mreturn\u001b[0m \u001b[0mnx\u001b[0m\u001b[0;34m.\u001b[0m\u001b[0mastar_path\u001b[0m\u001b[0;34m(\u001b[0m\u001b[0mG\u001b[0m\u001b[0;34m,\u001b[0m \u001b[0msource\u001b[0m\u001b[0;34m=\u001b[0m\u001b[0msource\u001b[0m\u001b[0;34m,\u001b[0m \u001b[0mtarget\u001b[0m\u001b[0;34m=\u001b[0m\u001b[0mtarget\u001b[0m\u001b[0;34m,\u001b[0m \u001b[0mheuristic\u001b[0m\u001b[0;34m=\u001b[0m\u001b[0mheuristic\u001b[0m\u001b[0;34m,\u001b[0m \u001b[0mweight\u001b[0m\u001b[0;34m=\u001b[0m\u001b[0;34m'dist'\u001b[0m\u001b[0;34m)\u001b[0m\u001b[0;34m\u001b[0m\u001b[0;34m\u001b[0m\u001b[0m\n\u001b[1;32m    105\u001b[0m \u001b[0;34m\u001b[0m\u001b[0m\n",
      "\u001b[0;31mKeyError\u001b[0m: 'pos'"
     ]
    }
   ],
   "source": [
    "cbs2.run()"
   ]
  },
  {
   "cell_type": "code",
   "execution_count": null,
   "id": "9e285441-d833-46f0-9b71-8ebfcfad7cdb",
   "metadata": {},
   "outputs": [],
   "source": []
  }
 ],
 "metadata": {
  "kernelspec": {
   "display_name": "Python 3",
   "language": "python",
   "name": "python3"
  },
  "language_info": {
   "codemirror_mode": {
    "name": "ipython",
    "version": 3
   },
   "file_extension": ".py",
   "mimetype": "text/x-python",
   "name": "python",
   "nbconvert_exporter": "python",
   "pygments_lexer": "ipython3",
   "version": "3.9.7"
  }
 },
 "nbformat": 4,
 "nbformat_minor": 5
}
